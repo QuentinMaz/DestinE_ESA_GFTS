{
 "cells": [
  {
   "cell_type": "markdown",
   "id": "27372111-4c7d-4cb9-8960-01cff85aa843",
   "metadata": {},
   "source": [
    "# Fish track visualistion"
   ]
  },
  {
   "cell_type": "markdown",
   "id": "14af151e-2ee9-4233-89fd-4499c981b860",
   "metadata": {},
   "source": [
    "___\n",
    "## This notebook is used to visualize computed fish-track for the GFTS project.\n",
    "The original code used Panel to make the visualization interactive. However, since the panne_plot_s3.ipynb is very slow, we created an HTML version of each tag result using this notebook and uploaded them to S3, allowing biologists to validate the data in batches, such as 10 at a time.\n",
    "\n",
    "Please refer to the original code (panne_plot_s3.ipynb) for explanations of each function used, the experimental configurations performed, and the parameters applied in this notebook. \n",
    "____"
   ]
  },
  {
   "cell_type": "raw",
   "id": "d5ed3382-4be7-47fc-8137-a8468d1882e2",
   "metadata": {
    "scrolled": true
   },
   "source": [
    "# Install pangeo fish if necessary\n",
    "!pip install ~/pangeo-fish/"
   ]
  },
  {
   "cell_type": "code",
   "execution_count": null,
   "id": "91d7d76e-9046-4305-abba-c97c04c10f35",
   "metadata": {},
   "outputs": [],
   "source": [
    "# Import necessary libraries and modules.\n",
    "import hvplot.xarray  # noqa\n",
    "import movingpandas as mpd\n",
    "import pandas as pd\n",
    "import s3fs\n",
    "import xarray as xr\n",
    "from pangeo_fish import visualization\n",
    "from pangeo_fish.io import open_tag, read_trajectories\n",
    "from pangeo_fish.tags import to_time_slice"
   ]
  },
  {
   "cell_type": "markdown",
   "id": "420d4477-676d-4ff0-a877-24087abaecb0",
   "metadata": {},
   "source": [
    "## Update following with each expeirment you will examine \n",
    "We define the name of experiments and it's related parameters in next cell."
   ]
  },
  {
   "cell_type": "code",
   "execution_count": null,
   "id": "0ef52bc9-e423-44b5-9839-cc21cd1dfc8d",
   "metadata": {},
   "outputs": [],
   "source": [
    "# The name of experiment\n",
    "remote_path = \"gfts-ifremer/tags/bargip\"\n",
    "\n",
    "# Tag_storage_path\n",
    "tag_storage_path = \"cleaned\"\n",
    "tag_storage_path = \"clean_demo\"\n",
    "\n",
    "# The name of the folder where the results are stored\n",
    "generation_name = \"tracks_4\"\n",
    "\n",
    "# bbox, bounding box, defines the latitude and longitude range for the analysis area.\n",
    "bbox = {\"latitude\": [40, 56], \"longitude\": [-13, 5]}"
   ]
  },
  {
   "cell_type": "markdown",
   "id": "0931c6ba-6c8a-44c2-85b6-5cb90fd5806e",
   "metadata": {},
   "source": [
    "Next cell contains parameters to access data, in GFTS which are static "
   ]
  },
  {
   "cell_type": "code",
   "execution_count": null,
   "id": "80615d0b-0330-4960-b713-a5b945b1ed6b",
   "metadata": {},
   "outputs": [],
   "source": [
    "# tramodes are the two types of track that have been computed for GFTS.\n",
    "track_modes = [\"mean\", \"mode\"]\n",
    "\n",
    "cloud_root = f\"s3://{remote_path}\"\n",
    "\n",
    "# tag_root specifies the root URL for tag data used for this computation.\n",
    "tag_root = f\"{cloud_root}/{tag_storage_path}\"\n",
    "\n",
    "s3 = s3fs.S3FileSystem(\n",
    "    anon=False,\n",
    "    client_kwargs={\n",
    "        \"endpoint_url\": \"https://s3.gra.perf.cloud.ovh.net\",\n",
    "    },\n",
    ")\n",
    "\n",
    "\n",
    "# storage_options specifies options for the filesystem storing and/or opening output files.\n",
    "storage_options = {\n",
    "    \"anon\": False,\n",
    "    # 'profile' : \"gfts\",\n",
    "    \"client_kwargs\": {\n",
    "        \"endpoint_url\": \"https://s3.gra.perf.cloud.ovh.net\",\n",
    "        \"region_name\": \"gra\",\n",
    "    },\n",
    "}"
   ]
  },
  {
   "cell_type": "markdown",
   "id": "bd6445f3-3024-47e4-bfb1-563ddd118975",
   "metadata": {},
   "source": [
    "Next step will list all tags which contains computed results."
   ]
  },
  {
   "cell_type": "code",
   "execution_count": null,
   "id": "631f0068-fdbd-4fb8-a4d1-cc315b6b986d",
   "metadata": {},
   "outputs": [],
   "source": [
    "# Tag list is the list of available tags\n",
    "\n",
    "tag_list_ = s3.ls(f\"{remote_path}/{generation_name}\")\n",
    "tag_list = [\n",
    "    tag.replace(f\"{remote_path}/{generation_name}/\", \"\")\n",
    "    for tag in tag_list_\n",
    "    if tag.replace(f\"{remote_path}/{generation_name}/\", \"\")\n",
    "]\n",
    "\n",
    "\n",
    "# scratch_root specifies the root directory where are GFTS computation data stored.\n",
    "scratch_root = f\"{cloud_root}/{generation_name}\""
   ]
  },
  {
   "cell_type": "markdown",
   "id": "b4ec395d-9573-493b-99a5-5025b8075cee",
   "metadata": {},
   "source": [
    "## Define Plotting functions\n",
    "Functions to plot the different visualization for a given tag id"
   ]
  },
  {
   "cell_type": "code",
   "execution_count": null,
   "id": "02d57689-9b02-4d81-8a00-f419439dc6a0",
   "metadata": {},
   "outputs": [],
   "source": [
    "def get_traj(tag_id=\"CB_A11071\"):\n",
    "    # load trajectories\n",
    "    trajectories = read_trajectories(\n",
    "        track_modes, f\"{scratch_root}/{tag_id}\", storage_options, format=\"parquet\"\n",
    "    )\n",
    "\n",
    "    # Converting the trajectories to pandas DataFrames to access data easily\n",
    "    mean_df = trajectories.trajectories[0].df\n",
    "    mode_df = trajectories.trajectories[1].df\n",
    "    return mean_df, mode_df"
   ]
  },
  {
   "cell_type": "code",
   "execution_count": null,
   "id": "88963d51-0904-49dd-827d-389b3103cbfe",
   "metadata": {},
   "outputs": [],
   "source": [
    "def plot_time_series(mean_df, mode_df, tag_id=\"CB_A11071\"):\n",
    "\n",
    "    tag = open_tag(tag_root, tag_id)\n",
    "    time_slice = to_time_slice(tag[\"tagging_events/time\"])\n",
    "\n",
    "    tag_log = tag[\"dst\"].ds.sel(time=time_slice)\n",
    "\n",
    "    # Following part is not optimal, need optimisation\n",
    "    #\n",
    "    # Creating pandas series for xarrray dataset\n",
    "    mean_lon_ = pd.Series(mean_df.geometry.x, name=\"longitude\")\n",
    "    mean_lat_ = pd.Series(mean_df.geometry.y, name=\"latitude\")\n",
    "    mode_lon_ = pd.Series(mode_df.geometry.x, name=\"longitude\")\n",
    "    mode_lat_ = pd.Series(mode_df.geometry.y, name=\"latitude\")\n",
    "\n",
    "    # Creating xarray datasets\n",
    "    mean_coords = xr.Dataset(pd.concat([mean_lon_, mean_lat_], axis=1))\n",
    "    mode_coords = xr.Dataset(pd.concat([mode_lon_, mode_lat_], axis=1))\n",
    "\n",
    "    # Assigning dataarrays to variables\n",
    "    mean_lon = mean_coords[\"longitude\"]\n",
    "    mean_lat = mean_coords[\"latitude\"]\n",
    "    mode_lon = mode_coords[\"longitude\"]\n",
    "    mode_lat = mode_coords[\"latitude\"]\n",
    "\n",
    "    tag_log[\"depth\"] = tag_log[\"pressure\"]\n",
    "    temp_plot = tag_log[\"temperature\"].hvplot(\n",
    "        color=\"Red\",\n",
    "        title=f\"{tag_id} , Temperature (°C)\",\n",
    "        grid=True,\n",
    "        height=200,\n",
    "        width=600,\n",
    "    )\n",
    "    depth_plot = (-tag_log[\"depth\"]).hvplot(\n",
    "        color=\"Blue\", title=\"Depth (m)\", grid=True, height=200, width=600\n",
    "    )\n",
    "    lon_plot = (\n",
    "        mean_lat.hvplot(\n",
    "            label=\"mean\", clim=[mean_lat_.min(), mean_lat_.max()], dynamic=True\n",
    "        )\n",
    "        * mode_lat.hvplot(\n",
    "            label=\"mode\", clim=[mode_lat_.min(), mean_lat_.max()], dynamic=True\n",
    "        )\n",
    "    ).opts(height=200, width=600, show_grid=True, title=\"Fish latitude over time\")\n",
    "    lat_plot = (\n",
    "        mean_lon.hvplot(\n",
    "            label=\"mean\", clim=[mean_lon_.min(), mean_lat_.max()], dynamic=True\n",
    "        )\n",
    "        * mode_lon.hvplot(\n",
    "            label=\"mode\", clim=[mode_lon_.min(), mean_lat_.max()], dynamic=True\n",
    "        )\n",
    "    ).opts(height=200, width=600, show_grid=True, title=\"Fish longitude over time\")\n",
    "    print(\"fini time series plot\", tag_id)\n",
    "    return (temp_plot + depth_plot + lon_plot + lat_plot).cols(1)"
   ]
  },
  {
   "cell_type": "code",
   "execution_count": null,
   "id": "bd4be433-97d5-4e82-bca8-371b7e3285d3",
   "metadata": {},
   "outputs": [],
   "source": [
    "def plot_track(mean_df, mode_df, tag_id=\"CB_A11071\"):\n",
    "    sigma = pd.read_json(f\"{scratch_root}/{tag_id}/parameters.json\").to_dict()[0][\n",
    "        \"sigma\"\n",
    "    ]\n",
    "    ## Following part is not optimal, need some optimisation.\n",
    "    # Adding month data\n",
    "    mean_df[\"month\"] = mean_df.index.month\n",
    "    mode_df[\"month\"] = mode_df.index.month\n",
    "    # Converting back to trajectories\n",
    "    mean_traj = mpd.Trajectory(\n",
    "        mean_df, traj_id=mean_df.traj_id.drop_duplicates().values[0]\n",
    "    )\n",
    "    mode_traj = mpd.Trajectory(\n",
    "        mode_df, traj_id=mode_df.traj_id.drop_duplicates().values[0]\n",
    "    )\n",
    "    trajectories = mpd.TrajectoryCollection([mean_traj, mode_traj])\n",
    "    print(\"updated trajectories\")\n",
    "    traj_plots = [\n",
    "        traj.hvplot(\n",
    "            c=\"month\",\n",
    "            tiles=\"CartoLight\",\n",
    "            cmap=\"rainbow\",\n",
    "            title=f\"{tag_id} , {traj.id}, {sigma}\",\n",
    "            width=375,\n",
    "            height=375,\n",
    "            dynamic=True,\n",
    "        )\n",
    "        for traj in trajectories.trajectories\n",
    "    ]\n",
    "\n",
    "    return (traj_plots[0] + traj_plots[1]).cols(1)"
   ]
  },
  {
   "cell_type": "code",
   "execution_count": null,
   "id": "7ff47409-9162-4f3b-9906-9a062aa6d941",
   "metadata": {},
   "outputs": [],
   "source": [
    "def plot_emission(tag_id=\"CB_A11071\"):\n",
    "    ## Might not work if dask involved or slider involved\n",
    "    emission = xr.open_dataset(\n",
    "        f\"{scratch_root}/{tag_id}/combined.zarr\",\n",
    "        engine=\"zarr\",\n",
    "        chunks={},\n",
    "        inline_array=True,\n",
    "        storage_options=storage_options,\n",
    "    ).rename_vars({\"pdf\": \"emission\"})\n",
    "\n",
    "    states = xr.open_dataset(\n",
    "        f\"{scratch_root}/{tag_id}/states.zarr\",\n",
    "        engine=\"zarr\",\n",
    "        chunks={},\n",
    "        inline_array=True,\n",
    "        storage_options=storage_options,\n",
    "    ).where(emission[\"mask\"])\n",
    "\n",
    "    data = xr.merge([states, emission.drop_vars([\"mask\"])])\n",
    "    plot1 = visualization.plot_map(\n",
    "        data[\"states\"].sel(time=slice(\"2015-09-04\", \"2015-09-10\")), bbox, cmap=\"cool\"\n",
    "    ).opts(height=350, width=600)\n",
    "    plot2 = visualization.plot_map(\n",
    "        data[\"emission\"].sel(time=slice(\"2015-09-04\", \"2015-09-10\")), bbox, cmap=\"cool\"\n",
    "    ).opts(height=350, width=600)\n",
    "    return (plot1 + plot2).cols(1)"
   ]
  },
  {
   "cell_type": "code",
   "execution_count": null,
   "id": "0dcac74a-d82b-4139-8cd3-a0dd11b4c2fd",
   "metadata": {},
   "outputs": [],
   "source": [
    "def get_plot(tag_id=\"CB_A11071\"):\n",
    "    # load trajectories\n",
    "    fmean_df, mode_df = get_traj(tag_id)\n",
    "    time_series = plot_time_series(mean_df, mode_df, tag_id)\n",
    "    track = plot_track(mean_df, mode_df, tag_id)\n",
    "    # emission=plot_emission(tag_id)\n",
    "    fig = (time_series + track).cols(2)\n",
    "    return fig"
   ]
  },
  {
   "cell_type": "code",
   "execution_count": null,
   "id": "f90ee43f-f735-4835-8159-da80c88a7dd1",
   "metadata": {},
   "outputs": [],
   "source": [
    "!mkdir -p $generation_name\n",
    "from bokeh.resources import INLINE\n",
    "def get_plot_in_html(tag_id=\"CB_A11071\",make_html=True):\n",
    "    fname = f\"{generation_name}/{tag_id}.html\"\n",
    "    if make_html:\n",
    "        # load trajectories\n",
    "        fmean_df, mode_df = get_traj(tag_id)\n",
    "        time_series = plot_time_series(mean_df, mode_df, tag_id)\n",
    "        track = plot_track(mean_df, mode_df, tag_id)\n",
    "        # emission=plot_emission(tag_id)\n",
    "        fig = (time_series + track).cols(2)\n",
    "        print(fname)\n",
    "        hvplot.save(fig, fname, resources=INLINE)\n",
    "    #Copy the html to s3 here\n",
    "    s3.put(fname, (f\"{remote_path}/{generation_name}/{tag_id}/track.html\"))\n",
    "    return  # fig"
   ]
  },
  {
   "cell_type": "markdown",
   "id": "42217471-f762-46df-8a5c-c16e281d88c8",
   "metadata": {},
   "source": [
    "## Create html file for each tag_id, and list failed tag_id's\n"
   ]
  },
  {
   "cell_type": "code",
   "execution_count": null,
   "id": "bdb7f2bb-dd6e-461d-af24-08ff545c67fa",
   "metadata": {
    "scrolled": true
   },
   "outputs": [],
   "source": [
    "def process_tag(tag_id):\n",
    "    try:\n",
    "        print(tag_id)\n",
    "        get_plot_in_html(tag_id)#,make_html=False)\n",
    "        return True  # Return True if successful\n",
    "    except KeyError as e:\n",
    "        print(f\"KeyError encountered for tag {tag_id}: {e}\")\n",
    "        return False\n",
    "    except Exception as e:\n",
    "        print(f\"Other error encountered for tag {tag_id}: {e}\")\n",
    "        return False\n",
    "\n",
    "\n",
    "# List to store tags that fail during processing\n",
    "failed_tags = []\n",
    "\n",
    "# Loop through each tag and check if it processes successfully\n",
    "for tag_id in tag_list:\n",
    "    if not process_tag(tag_id):\n",
    "        failed_tags.append(tag_id)"
   ]
  },
  {
   "cell_type": "code",
   "execution_count": null,
   "id": "80223b6d-969e-4155-87c4-248a94a46d98",
   "metadata": {
    "scrolled": true
   },
   "outputs": [],
   "source": [
    "# Print out the list of failed tags\n",
    "print(\"Failed tags:\", failed_tags)"
   ]
  },
  {
   "cell_type": "markdown",
   "id": "0e226628-2a83-43fe-becb-6f8c74cdb0cb",
   "metadata": {},
   "source": [
    "## Visualise 10 by 10 using  html files created in the last step"
   ]
  },
  {
   "cell_type": "code",
   "execution_count": null,
   "id": "be28c6fd-f75a-4955-9b0e-d544c90dc0bb",
   "metadata": {
    "scrolled": true
   },
   "outputs": [],
   "source": [
    "%%time\n",
    "from IPython.display import IFrame\n",
    "from IPython.display import display, HTML\n",
    "\n",
    "generation_name = \"tracks_4\"\n",
    "local=False\n",
    "for tag_id in tag_list[0:10]:\n",
    "    if local:\n",
    "        fname = f\"{generation_name}/{tag_id}.html\"\n",
    "        display(IFrame(src=fname, width=1000, height=1000))\n",
    "    else:\n",
    "        fname=f\"{remote_path}/{generation_name}/{tag_id}/track.html\"\n",
    "        \n",
    "        # Read the HTML file content from S3 (cached in memory)\n",
    "        try:\n",
    "            with s3.open(fname, 'r') as f:\n",
    "                html_content = f.read()  # Read the HTML content as a string\n",
    "            print(\"File fetched and cached successfully.\")\n",
    "        except Exception as e:\n",
    "            print(f\"Error fetching file: {e}\")\n",
    "        \n",
    "        # Display the HTML content in Jupyter Notebook\n",
    "        try:\n",
    "            display(HTML(html_content))  # Display the HTML content in the notebook\n",
    "        except Exception as e:\n",
    "            print(f\"Error displaying HTML: {e}\")        "
   ]
  },
  {
   "cell_type": "raw",
   "id": "b34ebee7-ac4f-4407-8f04-d3d01e77f862",
   "metadata": {},
   "source": [
    "## Slow but using panel: \n",
    "# Panel parameters\n",
    "value = tag_list[0]\n",
    "# Initalizing the widget for tag selection\n",
    "tag_widget = pn.widgets.Select(name=\"tag_id\", value=value, options=tag_list)\n",
    "\n",
    "## Here load trajectory\n",
    "\n",
    "# Binding widget with the plots\n",
    "plot_all = pn.bind(get_plot , tag_id=tag_widget)\n",
    "\n",
    "#plots with the widget\n",
    "plots = pn.Column(tag_widget, plot_all)\n",
    "\n",
    "pn.template.FastListTemplate(\n",
    "    site=\"Tag data display\",\n",
    "    title=\"plots\",\n",
    "    main=plots,\n",
    ").servable();"
   ]
  },
  {
   "cell_type": "raw",
   "id": "3c4637b1-cca9-4955-9020-90c70cca3538",
   "metadata": {},
   "source": [
    "plots"
   ]
  }
 ],
 "metadata": {
  "kernelspec": {
   "display_name": "Python 3 (ipykernel)",
   "language": "python",
   "name": "python3"
  },
  "language_info": {
   "codemirror_mode": {
    "name": "ipython",
    "version": 3
   },
   "file_extension": ".py",
   "mimetype": "text/x-python",
   "name": "python",
   "nbconvert_exporter": "python",
   "pygments_lexer": "ipython3",
   "version": "3.12.5"
  }
 },
 "nbformat": 4,
 "nbformat_minor": 5
}
