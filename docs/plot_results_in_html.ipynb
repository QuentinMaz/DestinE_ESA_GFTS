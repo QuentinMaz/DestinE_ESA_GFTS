{
 "cells": [
  {
   "cell_type": "markdown",
   "id": "27372111-4c7d-4cb9-8960-01cff85aa843",
   "metadata": {},
   "source": [
    "# Fish track visualistion"
   ]
  },
  {
   "cell_type": "markdown",
   "id": "14af151e-2ee9-4233-89fd-4499c981b860",
   "metadata": {},
   "source": [
    "___\n",
    "## This notebooks is used to visualize data for the GFTS project\n",
    "\n",
    "The original code used panel to make the visualisation interactive, Since the [panne_plot_s3.ipynb ](./panne_plot_s3.ipynb) is very slow, we create html version of each tag results using this notebook, upload them on s3, so that biologist can validate the data 10 by 10 for example.  \n",
    "\n",
    "Please reffer the original code [panne_plot_s3.ipynb ](./panne_plot_s3.ipynb) for explanation of each function we use, each experiment configuration done, and parameters we use in this notebook.  \n",
    "____"
   ]
  },
  {
   "cell_type": "markdown",
   "id": "0f3204bb-a2ac-4e31-a469-a8416152dc8a",
   "metadata": {},
   "source": []
  },
  {
   "cell_type": "code",
   "execution_count": 5,
   "id": "df88c1b0-6c62-4f83-b9e9-0c2285ce67fd",
   "metadata": {},
   "outputs": [
    {
     "name": "stdout",
     "output_type": "stream",
     "text": [
      "Processing /home/jovyan/pangeo-fish\n",
      "  Installing build dependencies ... \u001b[?25ldone\n",
      "\u001b[?25h  Getting requirements to build wheel ... \u001b[?25ldone\n",
      "\u001b[?25h  Preparing metadata (pyproject.toml) ... \u001b[?25ldone\n",
      "\u001b[?25hRequirement already satisfied: xarray in /srv/conda/envs/notebook/lib/python3.12/site-packages (from pangeo-fish==0.1.dev73+g810c951.d20240905) (2024.7.0)\n",
      "Requirement already satisfied: xarray-datatree in /srv/conda/envs/notebook/lib/python3.12/site-packages (from pangeo-fish==0.1.dev73+g810c951.d20240905) (0.0.14)\n",
      "Requirement already satisfied: pandas in /srv/conda/envs/notebook/lib/python3.12/site-packages (from pangeo-fish==0.1.dev73+g810c951.d20240905) (2.2.2)\n",
      "Requirement already satisfied: numpy in /srv/conda/envs/notebook/lib/python3.12/site-packages (from pangeo-fish==0.1.dev73+g810c951.d20240905) (1.26.4)\n",
      "Requirement already satisfied: scipy in /srv/conda/envs/notebook/lib/python3.12/site-packages (from pangeo-fish==0.1.dev73+g810c951.d20240905) (1.14.0)\n",
      "Requirement already satisfied: numba in /srv/conda/envs/notebook/lib/python3.12/site-packages (from pangeo-fish==0.1.dev73+g810c951.d20240905) (0.60.0)\n",
      "Collecting more-itertools (from pangeo-fish==0.1.dev73+g810c951.d20240905)\n",
      "  Downloading more_itertools-10.5.0-py3-none-any.whl.metadata (36 kB)\n",
      "Requirement already satisfied: opt-einsum in /srv/conda/envs/notebook/lib/python3.12/site-packages (from pangeo-fish==0.1.dev73+g810c951.d20240905) (3.3.0)\n",
      "Requirement already satisfied: sparse in /srv/conda/envs/notebook/lib/python3.12/site-packages (from pangeo-fish==0.1.dev73+g810c951.d20240905) (0.15.4)\n",
      "Requirement already satisfied: healpy in /srv/conda/envs/notebook/lib/python3.12/site-packages (from pangeo-fish==0.1.dev73+g810c951.d20240905) (1.17.3)\n",
      "Collecting movingpandas (from pangeo-fish==0.1.dev73+g810c951.d20240905)\n",
      "  Using cached movingpandas-0.19.0-py3-none-any.whl.metadata (989 bytes)\n",
      "Requirement already satisfied: xarray-healpy in /srv/conda/envs/notebook/lib/python3.12/site-packages (from pangeo-fish==0.1.dev73+g810c951.d20240905) (0.1.dev20+g0ffca60)\n",
      "Requirement already satisfied: astropy in /srv/conda/envs/notebook/lib/python3.12/site-packages (from healpy->pangeo-fish==0.1.dev73+g810c951.d20240905) (6.1.2)\n",
      "Requirement already satisfied: matplotlib in /srv/conda/envs/notebook/lib/python3.12/site-packages (from movingpandas->pangeo-fish==0.1.dev73+g810c951.d20240905) (3.9.2)\n",
      "Requirement already satisfied: geopandas in /srv/conda/envs/notebook/lib/python3.12/site-packages (from movingpandas->pangeo-fish==0.1.dev73+g810c951.d20240905) (1.0.1)\n",
      "Collecting fiona (from movingpandas->pangeo-fish==0.1.dev73+g810c951.d20240905)\n",
      "  Using cached fiona-1.10.0-cp312-cp312-manylinux_2_17_x86_64.manylinux2014_x86_64.whl.metadata (56 kB)\n",
      "Requirement already satisfied: geopy in /srv/conda/envs/notebook/lib/python3.12/site-packages (from movingpandas->pangeo-fish==0.1.dev73+g810c951.d20240905) (2.4.1)\n",
      "Requirement already satisfied: llvmlite<0.44,>=0.43.0dev0 in /srv/conda/envs/notebook/lib/python3.12/site-packages (from numba->pangeo-fish==0.1.dev73+g810c951.d20240905) (0.43.0)\n",
      "Requirement already satisfied: python-dateutil>=2.8.2 in /srv/conda/envs/notebook/lib/python3.12/site-packages (from pandas->pangeo-fish==0.1.dev73+g810c951.d20240905) (2.8.2)\n",
      "Requirement already satisfied: pytz>=2020.1 in /srv/conda/envs/notebook/lib/python3.12/site-packages (from pandas->pangeo-fish==0.1.dev73+g810c951.d20240905) (2024.1)\n",
      "Requirement already satisfied: tzdata>=2022.7 in /srv/conda/envs/notebook/lib/python3.12/site-packages (from pandas->pangeo-fish==0.1.dev73+g810c951.d20240905) (2024.1)\n",
      "Requirement already satisfied: packaging>=23.1 in /srv/conda/envs/notebook/lib/python3.12/site-packages (from xarray->pangeo-fish==0.1.dev73+g810c951.d20240905) (24.1)\n",
      "Requirement already satisfied: scikit-learn in /srv/conda/envs/notebook/lib/python3.12/site-packages (from xarray-healpy->pangeo-fish==0.1.dev73+g810c951.d20240905) (1.5.1)\n",
      "Requirement already satisfied: cdshealpix in /srv/conda/envs/notebook/lib/python3.12/site-packages (from xarray-healpy->pangeo-fish==0.1.dev73+g810c951.d20240905) (0.6.4)\n",
      "Requirement already satisfied: six>=1.5 in /srv/conda/envs/notebook/lib/python3.12/site-packages (from python-dateutil>=2.8.2->pandas->pangeo-fish==0.1.dev73+g810c951.d20240905) (1.16.0)\n",
      "Requirement already satisfied: pyerfa>=2.0.1.1 in /srv/conda/envs/notebook/lib/python3.12/site-packages (from astropy->healpy->pangeo-fish==0.1.dev73+g810c951.d20240905) (2.0.1.4)\n",
      "Requirement already satisfied: astropy-iers-data>=0.2024.7.1.0.34.3 in /srv/conda/envs/notebook/lib/python3.12/site-packages (from astropy->healpy->pangeo-fish==0.1.dev73+g810c951.d20240905) (0.2024.8.5.0.32.23)\n",
      "Requirement already satisfied: PyYAML>=3.13 in /srv/conda/envs/notebook/lib/python3.12/site-packages (from astropy->healpy->pangeo-fish==0.1.dev73+g810c951.d20240905) (6.0.2)\n",
      "Requirement already satisfied: attrs>=19.2.0 in /srv/conda/envs/notebook/lib/python3.12/site-packages (from fiona->movingpandas->pangeo-fish==0.1.dev73+g810c951.d20240905) (24.2.0)\n",
      "Requirement already satisfied: certifi in /srv/conda/envs/notebook/lib/python3.12/site-packages (from fiona->movingpandas->pangeo-fish==0.1.dev73+g810c951.d20240905) (2024.8.30)\n",
      "Requirement already satisfied: click~=8.0 in /srv/conda/envs/notebook/lib/python3.12/site-packages (from fiona->movingpandas->pangeo-fish==0.1.dev73+g810c951.d20240905) (8.1.7)\n",
      "Requirement already satisfied: click-plugins>=1.0 in /srv/conda/envs/notebook/lib/python3.12/site-packages (from fiona->movingpandas->pangeo-fish==0.1.dev73+g810c951.d20240905) (1.1.1)\n",
      "Requirement already satisfied: cligj>=0.5 in /srv/conda/envs/notebook/lib/python3.12/site-packages (from fiona->movingpandas->pangeo-fish==0.1.dev73+g810c951.d20240905) (0.7.2)\n",
      "Requirement already satisfied: pyogrio>=0.7.2 in /srv/conda/envs/notebook/lib/python3.12/site-packages (from geopandas->movingpandas->pangeo-fish==0.1.dev73+g810c951.d20240905) (0.9.0)\n",
      "Requirement already satisfied: pyproj>=3.3.0 in /srv/conda/envs/notebook/lib/python3.12/site-packages (from geopandas->movingpandas->pangeo-fish==0.1.dev73+g810c951.d20240905) (3.6.1)\n",
      "Requirement already satisfied: shapely>=2.0.0 in /srv/conda/envs/notebook/lib/python3.12/site-packages (from geopandas->movingpandas->pangeo-fish==0.1.dev73+g810c951.d20240905) (2.0.5)\n",
      "Requirement already satisfied: geographiclib<3,>=1.52 in /srv/conda/envs/notebook/lib/python3.12/site-packages (from geopy->movingpandas->pangeo-fish==0.1.dev73+g810c951.d20240905) (2.0)\n",
      "Requirement already satisfied: contourpy>=1.0.1 in /srv/conda/envs/notebook/lib/python3.12/site-packages (from matplotlib->movingpandas->pangeo-fish==0.1.dev73+g810c951.d20240905) (1.2.1)\n",
      "Requirement already satisfied: cycler>=0.10 in /srv/conda/envs/notebook/lib/python3.12/site-packages (from matplotlib->movingpandas->pangeo-fish==0.1.dev73+g810c951.d20240905) (0.12.1)\n",
      "Requirement already satisfied: fonttools>=4.22.0 in /srv/conda/envs/notebook/lib/python3.12/site-packages (from matplotlib->movingpandas->pangeo-fish==0.1.dev73+g810c951.d20240905) (4.53.1)\n",
      "Requirement already satisfied: kiwisolver>=1.3.1 in /srv/conda/envs/notebook/lib/python3.12/site-packages (from matplotlib->movingpandas->pangeo-fish==0.1.dev73+g810c951.d20240905) (1.4.5)\n",
      "Requirement already satisfied: pillow>=8 in /srv/conda/envs/notebook/lib/python3.12/site-packages (from matplotlib->movingpandas->pangeo-fish==0.1.dev73+g810c951.d20240905) (10.4.0)\n",
      "Requirement already satisfied: pyparsing>=2.3.1 in /srv/conda/envs/notebook/lib/python3.12/site-packages (from matplotlib->movingpandas->pangeo-fish==0.1.dev73+g810c951.d20240905) (3.1.2)\n",
      "Requirement already satisfied: joblib>=1.2.0 in /srv/conda/envs/notebook/lib/python3.12/site-packages (from scikit-learn->xarray-healpy->pangeo-fish==0.1.dev73+g810c951.d20240905) (1.4.2)\n",
      "Requirement already satisfied: threadpoolctl>=3.1.0 in /srv/conda/envs/notebook/lib/python3.12/site-packages (from scikit-learn->xarray-healpy->pangeo-fish==0.1.dev73+g810c951.d20240905) (3.5.0)\n",
      "Downloading more_itertools-10.5.0-py3-none-any.whl (60 kB)\n",
      "Using cached movingpandas-0.19.0-py3-none-any.whl (76 kB)\n",
      "Using cached fiona-1.10.0-cp312-cp312-manylinux_2_17_x86_64.manylinux2014_x86_64.whl (17.2 MB)\n",
      "Building wheels for collected packages: pangeo-fish\n",
      "  Building wheel for pangeo-fish (pyproject.toml) ... \u001b[?25ldone\n",
      "\u001b[?25h  Created wheel for pangeo-fish: filename=pangeo_fish-0.1.dev73+g810c951.d20240905-py3-none-any.whl size=57887 sha256=f6dc949474e6eb02ac3193f177f1bb6b4254fb51018d2880f1ed71215f2cc0cd\n",
      "  Stored in directory: /home/jovyan/.cache/pip/wheels/23/19/60/08c6b1fd3c2951a45e140164c5acb6e0c88691e4a82ab0f855\n",
      "Successfully built pangeo-fish\n",
      "Installing collected packages: more-itertools, fiona, movingpandas, pangeo-fish\n",
      "Successfully installed fiona-1.10.0 more-itertools-10.5.0 movingpandas-0.19.0 pangeo-fish-0.1.dev73+g810c951.d20240905\n"
     ]
    }
   ],
   "source": [
    "# Install pangeo fish if necessary\n",
    "!pip install ~/pangeo-fish/"
   ]
  },
  {
   "cell_type": "code",
   "execution_count": 6,
   "id": "91d7d76e-9046-4305-abba-c97c04c10f35",
   "metadata": {},
   "outputs": [
    {
     "name": "stderr",
     "output_type": "stream",
     "text": [
      "/srv/conda/envs/notebook/lib/python3.12/site-packages/movingpandas/__init__.py:37: UserWarning: Missing optional dependencies. To use the trajectory smoother classes please install Stone Soup (see https://stonesoup.readthedocs.io/en/latest/#installation).\n",
      "  warnings.warn(e.msg, UserWarning)\n"
     ]
    }
   ],
   "source": [
    "# Import necessary libraries and modules.\n",
    "import hvplot.xarray  # noqa\n",
    "import movingpandas as mpd\n",
    "import pandas as pd\n",
    "import s3fs\n",
    "import xarray as xr\n",
    "from pangeo_fish import visualization\n",
    "from pangeo_fish.io import open_tag, read_trajectories\n",
    "from pangeo_fish.tags import to_time_slice"
   ]
  },
  {
   "cell_type": "markdown",
   "id": "420d4477-676d-4ff0-a877-24087abaecb0",
   "metadata": {},
   "source": [
    "## Update following with each expeirment you will examine \n",
    "We define the name of experiments and it's related parameters in next cell."
   ]
  },
  {
   "cell_type": "code",
   "execution_count": 7,
   "id": "0ef52bc9-e423-44b5-9839-cc21cd1dfc8d",
   "metadata": {},
   "outputs": [],
   "source": [
    "# The name of experiment\n",
    "remote_path = \"gfts-ifremer/tags/bargip\"\n",
    "\n",
    "# Tag_storage_path\n",
    "tag_storage_path = \"cleaned\"\n",
    "tag_storage_path = \"clean_demo\"\n",
    "\n",
    "# The name of the folder where the results are stored\n",
    "generation_name = \"tracks_4\"\n",
    "\n",
    "# bbox, bounding box, defines the latitude and longitude range for the analysis area.\n",
    "bbox = {\"latitude\": [40, 56], \"longitude\": [-13, 5]}"
   ]
  },
  {
   "cell_type": "markdown",
   "id": "0931c6ba-6c8a-44c2-85b6-5cb90fd5806e",
   "metadata": {},
   "source": [
    "Next cell contains parameters to access data, in GFTS which are static "
   ]
  },
  {
   "cell_type": "code",
   "execution_count": 9,
   "id": "80615d0b-0330-4960-b713-a5b945b1ed6b",
   "metadata": {},
   "outputs": [],
   "source": [
    "# tramodes are the two types of track that have been computed for GFTS.\n",
    "track_modes = [\"mean\", \"mode\"]\n",
    "\n",
    "cloud_root = f\"s3://{remote_path}\"\n",
    "\n",
    "# tag_root specifies the root URL for tag data used for this computation.\n",
    "tag_root = f\"{cloud_root}/{tag_storage_path}\"\n",
    "\n",
    "s3 = s3fs.S3FileSystem(\n",
    "    anon=False,\n",
    "    client_kwargs={\n",
    "        \"endpoint_url\": \"https://s3.gra.perf.cloud.ovh.net\",\n",
    "    },\n",
    ")\n",
    "\n",
    "\n",
    "# storage_options specifies options for the filesystem storing and/or opening output files.\n",
    "storage_options = {\n",
    "    \"anon\": False,\n",
    "    # 'profile' : \"gfts\",\n",
    "    \"client_kwargs\": {\n",
    "        \"endpoint_url\": \"https://s3.gra.perf.cloud.ovh.net\",\n",
    "        \"region_name\": \"gra\",\n",
    "    },\n",
    "}"
   ]
  },
  {
   "cell_type": "markdown",
   "id": "bd6445f3-3024-47e4-bfb1-563ddd118975",
   "metadata": {},
   "source": [
    "Next step will list all tags which contains computed results."
   ]
  },
  {
   "cell_type": "code",
   "execution_count": 10,
   "id": "631f0068-fdbd-4fb8-a4d1-cc315b6b986d",
   "metadata": {},
   "outputs": [],
   "source": [
    "# Tag list is the list of available tags\n",
    "\n",
    "tag_list_ = s3.ls(f\"{remote_path}/{generation_name}\")\n",
    "tag_list = [\n",
    "    tag.replace(f\"{remote_path}/{generation_name}/\", \"\")\n",
    "    for tag in tag_list_\n",
    "    if tag.replace(f\"{remote_path}/{generation_name}/\", \"\")\n",
    "]\n",
    "\n",
    "\n",
    "# scratch_root specifies the root directory where are GFTS computation data stored.\n",
    "scratch_root = f\"{cloud_root}/{generation_name}\""
   ]
  },
  {
   "cell_type": "markdown",
   "id": "b4ec395d-9573-493b-99a5-5025b8075cee",
   "metadata": {},
   "source": [
    "## Define Plotting functions\n",
    "Functions to plot the different visualization for a given tag id"
   ]
  },
  {
   "cell_type": "code",
   "execution_count": null,
   "id": "02d57689-9b02-4d81-8a00-f419439dc6a0",
   "metadata": {},
   "outputs": [],
   "source": [
    "def get_traj(tag_id=\"CB_A11071\"):\n",
    "    # load trajectories\n",
    "    trajectories = read_trajectories(\n",
    "        track_modes, f\"{scratch_root}/{tag_id}\", storage_options, format=\"parquet\"\n",
    "    )\n",
    "\n",
    "    # Converting the trajectories to pandas DataFrames to access data easily\n",
    "    mean_df = trajectories.trajectories[0].df\n",
    "    mode_df = trajectories.trajectories[1].df\n",
    "    return mean_df, mode_df"
   ]
  },
  {
   "cell_type": "code",
   "execution_count": null,
   "id": "88963d51-0904-49dd-827d-389b3103cbfe",
   "metadata": {},
   "outputs": [],
   "source": [
    "def plot_time_series(mean_df, mode_df, tag_id=\"CB_A11071\"):\n",
    "\n",
    "    tag = open_tag(tag_root, tag_id)\n",
    "    time_slice = to_time_slice(tag[\"tagging_events/time\"])\n",
    "\n",
    "    tag_log = tag[\"dst\"].ds.sel(time=time_slice)\n",
    "\n",
    "    # Following part is not optimal, need optimisation\n",
    "    #\n",
    "    # Creating pandas series for xarrray dataset\n",
    "    mean_lon_ = pd.Series(mean_df.geometry.x, name=\"longitude\")\n",
    "    mean_lat_ = pd.Series(mean_df.geometry.y, name=\"latitude\")\n",
    "    mode_lon_ = pd.Series(mode_df.geometry.x, name=\"longitude\")\n",
    "    mode_lat_ = pd.Series(mode_df.geometry.y, name=\"latitude\")\n",
    "\n",
    "    # Creating xarray datasets\n",
    "    mean_coords = xr.Dataset(pd.concat([mean_lon_, mean_lat_], axis=1))\n",
    "    mode_coords = xr.Dataset(pd.concat([mode_lon_, mode_lat_], axis=1))\n",
    "\n",
    "    # Assigning dataarrays to variables\n",
    "    mean_lon = mean_coords[\"longitude\"]\n",
    "    mean_lat = mean_coords[\"latitude\"]\n",
    "    mode_lon = mode_coords[\"longitude\"]\n",
    "    mode_lat = mode_coords[\"latitude\"]\n",
    "\n",
    "    tag_log[\"depth\"] = tag_log[\"pressure\"]\n",
    "    temp_plot = tag_log[\"temperature\"].hvplot(\n",
    "        color=\"Red\",\n",
    "        title=f\"{tag_id} , Temperature (°C)\",\n",
    "        grid=True,\n",
    "        height=200,\n",
    "        width=600,\n",
    "    )\n",
    "    depth_plot = (-tag_log[\"depth\"]).hvplot(\n",
    "        color=\"Blue\", title=\"Depth (m)\", grid=True, height=200, width=600\n",
    "    )\n",
    "    lon_plot = (\n",
    "        mean_lat.hvplot(\n",
    "            label=\"mean\", clim=[mean_lat_.min(), mean_lat_.max()], dynamic=True\n",
    "        )\n",
    "        * mode_lat.hvplot(\n",
    "            label=\"mode\", clim=[mode_lat_.min(), mean_lat_.max()], dynamic=True\n",
    "        )\n",
    "    ).opts(height=200, width=600, show_grid=True, title=\"Fish latitude over time\")\n",
    "    lat_plot = (\n",
    "        mean_lon.hvplot(\n",
    "            label=\"mean\", clim=[mean_lon_.min(), mean_lat_.max()], dynamic=True\n",
    "        )\n",
    "        * mode_lon.hvplot(\n",
    "            label=\"mode\", clim=[mode_lon_.min(), mean_lat_.max()], dynamic=True\n",
    "        )\n",
    "    ).opts(height=200, width=600, show_grid=True, title=\"Fish longitude over time\")\n",
    "    print(\"fini time series plot\", tag_id)\n",
    "    return (temp_plot + depth_plot + lon_plot + lat_plot).cols(1)"
   ]
  },
  {
   "cell_type": "code",
   "execution_count": null,
   "id": "bd4be433-97d5-4e82-bca8-371b7e3285d3",
   "metadata": {},
   "outputs": [],
   "source": [
    "def plot_track(mean_df, mode_df, tag_id=\"CB_A11071\"):\n",
    "    sigma = pd.read_json(f\"{scratch_root}/{tag_id}/parameters.json\").to_dict()[0][\n",
    "        \"sigma\"\n",
    "    ]\n",
    "    ## Following part is not optimal, need some optimisation.\n",
    "    # Adding month data\n",
    "    mean_df[\"month\"] = mean_df.index.month\n",
    "    mode_df[\"month\"] = mode_df.index.month\n",
    "    # Converting back to trajectories\n",
    "    mean_traj = mpd.Trajectory(\n",
    "        mean_df, traj_id=mean_df.traj_id.drop_duplicates().values[0]\n",
    "    )\n",
    "    mode_traj = mpd.Trajectory(\n",
    "        mode_df, traj_id=mode_df.traj_id.drop_duplicates().values[0]\n",
    "    )\n",
    "    trajectories = mpd.TrajectoryCollection([mean_traj, mode_traj])\n",
    "    print(\"updated trajectories\")\n",
    "    traj_plots = [\n",
    "        traj.hvplot(\n",
    "            c=\"month\",\n",
    "            tiles=\"CartoLight\",\n",
    "            cmap=\"rainbow\",\n",
    "            title=f\"{tag_id} , {traj.id}, {sigma}\",\n",
    "            width=375,\n",
    "            height=375,\n",
    "            dynamic=True,\n",
    "        )\n",
    "        for traj in trajectories.trajectories\n",
    "    ]\n",
    "\n",
    "    return (traj_plots[0] + traj_plots[1]).cols(1)"
   ]
  },
  {
   "cell_type": "code",
   "execution_count": null,
   "id": "7ff47409-9162-4f3b-9906-9a062aa6d941",
   "metadata": {},
   "outputs": [],
   "source": [
    "def plot_emission(tag_id=\"CB_A11071\"):\n",
    "    ## Might not work if dask involved or slider involved\n",
    "    emission = xr.open_dataset(\n",
    "        f\"{scratch_root}/{tag_id}/combined.zarr\",\n",
    "        engine=\"zarr\",\n",
    "        chunks={},\n",
    "        inline_array=True,\n",
    "        storage_options=storage_options,\n",
    "    ).rename_vars({\"pdf\": \"emission\"})\n",
    "\n",
    "    states = xr.open_dataset(\n",
    "        f\"{scratch_root}/{tag_id}/states.zarr\",\n",
    "        engine=\"zarr\",\n",
    "        chunks={},\n",
    "        inline_array=True,\n",
    "        storage_options=storage_options,\n",
    "    ).where(emission[\"mask\"])\n",
    "\n",
    "    data = xr.merge([states, emission.drop_vars([\"mask\"])])\n",
    "    plot1 = visualization.plot_map(\n",
    "        data[\"states\"].sel(time=slice(\"2015-09-04\", \"2015-09-10\")), bbox, cmap=\"cool\"\n",
    "    ).opts(height=350, width=600)\n",
    "    plot2 = visualization.plot_map(\n",
    "        data[\"emission\"].sel(time=slice(\"2015-09-04\", \"2015-09-10\")), bbox, cmap=\"cool\"\n",
    "    ).opts(height=350, width=600)\n",
    "    return (plot1 + plot2).cols(1)"
   ]
  },
  {
   "cell_type": "code",
   "execution_count": null,
   "id": "f90ee43f-f735-4835-8159-da80c88a7dd1",
   "metadata": {},
   "outputs": [],
   "source": [
    "!mkdir $generation_name\n",
    "from bokeh.resources import INLINE\n",
    "def get_plot_in_html(tag_id=\"CB_A11071\"):\n",
    "    # load trajectories\n",
    "    mean_df, mode_df = get_traj(tag_id)\n",
    "    time_series = plot_time_series(mean_df, mode_df, tag_id)\n",
    "    track = plot_track(mean_df, mode_df, tag_id)\n",
    "    # emission=plot_emission(tag_id)\n",
    "    fig = (time_series + track).cols(2)\n",
    "    fname = f\"{generation_name}/{tag_id}.html\"\n",
    "    print(fname)\n",
    "    hvplot.save(fig, fname, resources=INLINE)\n",
    "    #Copy the html to s3 here\n",
    "    return  # fig"
   ]
  },
  {
   "cell_type": "markdown",
   "id": "42217471-f762-46df-8a5c-c16e281d88c8",
   "metadata": {},
   "source": [
    "## Create html file for each tag_id, and list failed tag_id's\n"
   ]
  },
  {
   "cell_type": "code",
   "execution_count": null,
   "id": "bdb7f2bb-dd6e-461d-af24-08ff545c67fa",
   "metadata": {
    "scrolled": true
   },
   "outputs": [],
   "source": [
    "def process_tag(tag_id):\n",
    "    try:\n",
    "        print(tag_id)\n",
    "        get_plot_in_html(tag_id)\n",
    "        return True  # Return True if successful\n",
    "    except KeyError as e:\n",
    "        print(f\"KeyError encountered for tag {tag_id}: {e}\")\n",
    "        return False\n",
    "    except Exception as e:\n",
    "        print(f\"Other error encountered for tag {tag_id}: {e}\")\n",
    "        return False\n",
    "\n",
    "\n",
    "# List to store tags that fail during processing\n",
    "failed_tags = []\n",
    "\n",
    "# Loop through each tag and check if it processes successfully\n",
    "for tag_id in tag_list[:5]:\n",
    "    if not process_tag(tag_id):\n",
    "        failed_tags.append(tag_id)"
   ]
  },
  {
   "cell_type": "code",
   "execution_count": null,
   "id": "80223b6d-969e-4155-87c4-248a94a46d98",
   "metadata": {
    "scrolled": true
   },
   "outputs": [],
   "source": [
    "# Print out the list of failed tags\n",
    "print(\"Failed tags:\", failed_tags)"
   ]
  },
  {
   "cell_type": "markdown",
   "id": "0e226628-2a83-43fe-becb-6f8c74cdb0cb",
   "metadata": {},
   "source": [
    "## Visualise 10 by 10 using  html files created in the last step"
   ]
  },
  {
   "cell_type": "code",
   "execution_count": null,
   "id": "be28c6fd-f75a-4955-9b0e-d544c90dc0bb",
   "metadata": {
    "scrolled": true
   },
   "outputs": [],
   "source": [
    "%%time\n",
    "from IPython.display import IFrame\n",
    "\n",
    "generation_name = \"tracks_4\"\n",
    "for tag_id in tag_list[0:10]:\n",
    "    fname = f\"{generation_name}/{tag_id}.html\"\n",
    "    display(IFrame(src=fname, width=1000, height=1000))"
   ]
  },
  {
   "cell_type": "raw",
   "id": "b34ebee7-ac4f-4407-8f04-d3d01e77f862",
   "metadata": {},
   "source": [
    "# Panel parameters\n",
    "value = tag_list[0]\n",
    "# Initalizing the widget for tag selection\n",
    "tag_widget = pn.widgets.Select(name=\"tag_id\", value=value, options=tag_list)\n",
    "\n",
    "## Here load trajectory\n",
    "\n",
    "# Binding widget with the plots\n",
    "plot_all = pn.bind(get_plot , tag_id=tag_widget)\n",
    "\n",
    "#plots with the widget\n",
    "plots = pn.Column(tag_widget, plot_all)\n",
    "\n",
    "pn.template.FastListTemplate(\n",
    "    site=\"Tag data display\",\n",
    "    title=\"plots\",\n",
    "    main=plots,\n",
    ").servable();"
   ]
  },
  {
   "cell_type": "code",
   "execution_count": null,
   "id": "4961627f-40ab-4444-a8b1-7b3be77bc7a0",
   "metadata": {},
   "outputs": [],
   "source": [
    "# hvplot.extension('matplotlib')"
   ]
  },
  {
   "cell_type": "raw",
   "id": "3c4637b1-cca9-4955-9020-90c70cca3538",
   "metadata": {},
   "source": [
    "plots"
   ]
  },
  {
   "cell_type": "code",
   "execution_count": null,
   "id": "77d7c88c-0011-4b23-97fc-6261bdd25f20",
   "metadata": {},
   "outputs": [],
   "source": []
  }
 ],
 "metadata": {
  "kernelspec": {
   "display_name": "Python 3 (ipykernel)",
   "language": "python",
   "name": "python3"
  },
  "language_info": {
   "codemirror_mode": {
    "name": "ipython",
    "version": 3
   },
   "file_extension": ".py",
   "mimetype": "text/x-python",
   "name": "python",
   "nbconvert_exporter": "python",
   "pygments_lexer": "ipython3",
   "version": "3.12.5"
  }
 },
 "nbformat": 4,
 "nbformat_minor": 5
}
