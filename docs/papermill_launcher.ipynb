{
 "cells": [
  {
   "cell_type": "markdown",
   "id": "ef2daa25-4ec9-4046-81cd-2644e2fb048b",
   "metadata": {},
   "source": [
    "# Executing multiple parameters notebooks with papermill\n",
    "___\n",
    "**[Papermill](https://papermill.readthedocs.io/en/latest/)** is a Python library that allows you to parameterize, execute, and analyze Jupyter Notebooks, making it useful for automating and scaling data analysis workflows.\n",
    "\n",
    "In this notebook, we will set up a routine that can generate trajectories for multiple fishes with adjusted parameters.\n",
    "First we define important parameters that will be used in the loop that executes the notebooks.\n",
    "The second part will generate ipynb files, based on a template noteboook, with the modified parameters, defined in the first cells of the notebook"
   ]
  },
  {
   "cell_type": "markdown",
   "id": "a4f4f33a-4e6e-4871-af36-c5e1fedce33f",
   "metadata": {},
   "source": [
    "### Parameters set up"
   ]
  },
  {
   "cell_type": "code",
   "execution_count": 1,
   "id": "dc4bec0e-75c7-422d-8dd5-0d0d9c2c87ec",
   "metadata": {},
   "outputs": [],
   "source": [
    "# Necessary imports\n",
    "import json\n",
    "import os\n",
    "import re\n",
    "from datetime import datetime\n",
    "from pathlib import Path\n",
    "\n",
    "import kbatch\n",
    "from kbatch_papermill import kbatch_papermill\n",
    "import numpy as np\n",
    "import pandas as pd\n",
    "import pytz\n",
    "import s3fs\n",
    "from tqdm.notebook import tqdm"
   ]
  },
  {
   "cell_type": "code",
   "execution_count": 2,
   "id": "299a8a8d-d94b-41c3-a34a-f49c1d9b9576",
   "metadata": {
    "editable": true,
    "slideshow": {
     "slide_type": ""
    },
    "tags": []
   },
   "outputs": [],
   "source": [
    "# Connecting to the bucket\n",
    "s3 = s3fs.S3FileSystem(anon=False)"
   ]
  },
  {
   "cell_type": "code",
   "execution_count": 3,
   "id": "183731a1-201f-4921-8f1a-b3c05243ee11",
   "metadata": {},
   "outputs": [],
   "source": [
    "### Parameters for the execution of the notebook\n",
    "\n",
    "pangeo_fish_dir = Path.home() / \"pangeo-fish\"\n",
    "\n",
    "# Tags repo is the s3like path to the data stored on the bucket.\n",
    "tags_repo = \"gfts-ifremer/bargip/tag/formatted/\"\n",
    "\n",
    "# local_output is the path where the parametrized notebooks will be stored\n",
    "local_output = \"papermill_output\"\n",
    "\n",
    "# Change notebook path to the notebook in pangeo-fish\n",
    "input_notebook = \"notebooks/papermill/pangeo-fish_papermill.ipynb\"\n",
    "\n",
    "# cloud_root is the path to acces the reference file in remote (for\n",
    "cloud_root = \"s3://gfts-ifremer/bargip\"\n",
    "\n",
    "# folder name is the name of the folder where the result will be stored\n",
    "folder_name = \"test\""
   ]
  },
  {
   "cell_type": "code",
   "execution_count": 4,
   "id": "a2f6756b-446d-4b02-b617-f8448f3ac133",
   "metadata": {},
   "outputs": [],
   "source": [
    "# Retrieve the username in a JupyterHub environment\n",
    "user_name = os.getenv(\"JUPYTERHUB_USER\")\n",
    "\n",
    "# Setting up parameters for the computation\n",
    "remote = True\n",
    "\n",
    "if remote:\n",
    "    storage_options = {\n",
    "        \"anon\": False,\n",
    "        \"client_kwargs\": {\n",
    "            \"endpoint_url\": \"https://s3.gra.perf.cloud.ovh.net\",\n",
    "            \"region_name\": \"gra\",\n",
    "        },\n",
    "    }\n",
    "    scratch_root = f\"{cloud_root}/run/{user_name}/{folder_name}\"\n",
    "    s3_code_dir = f\"gfts-ifremer/kbatch/{user_name}\"\n",
    "else:\n",
    "    storage_options = None\n",
    "    scratch_root = f\"/home/jovyan/notebooks/papermill/{folder_name}\"  # Update this path with your local path where you want to it to be stored"
   ]
  },
  {
   "cell_type": "code",
   "execution_count": 5,
   "id": "177d6247-f01f-46f4-9775-852e472b31f1",
   "metadata": {
    "editable": true,
    "slideshow": {
     "slide_type": ""
    },
    "tags": []
   },
   "outputs": [],
   "source": [
    "# Setting up path for the s3 file access\n",
    "tag_list = [tag.replace(tags_repo, \"\") for tag in s3.ls(tags_repo)]"
   ]
  },
  {
   "cell_type": "code",
   "execution_count": 6,
   "id": "14e62840-9c0b-484c-a023-374e8d644190",
   "metadata": {},
   "outputs": [],
   "source": [
    "# limiting the number of computation to limit the test.\n",
    "tag_list = tag_list[1:15]\n",
    "tag_list.append(\"SV_A11963\")"
   ]
  },
  {
   "cell_type": "code",
   "execution_count": 7,
   "id": "1795cc81-65d1-4118-8343-721e870b4dc3",
   "metadata": {},
   "outputs": [],
   "source": [
    "# param is the dict passed as an argument to papermill\n",
    "param = {\"storage_options\": storage_options, \"scratch_root\": scratch_root}"
   ]
  },
  {
   "cell_type": "code",
   "execution_count": 8,
   "id": "7aa7cf51-1fc1-4fbd-9fb2-51576245766a",
   "metadata": {},
   "outputs": [
    {
     "data": {
      "text/plain": [
       "{'storage_options': {'anon': False,\n",
       "  'client_kwargs': {'endpoint_url': 'https://s3.gra.perf.cloud.ovh.net',\n",
       "   'region_name': 'gra'}},\n",
       " 'scratch_root': 's3://gfts-ifremer/bargip/run/minrk/test'}"
      ]
     },
     "execution_count": 8,
     "metadata": {},
     "output_type": "execute_result"
    }
   ],
   "source": [
    "# Verifying the params for the location\n",
    "param"
   ]
  },
  {
   "cell_type": "markdown",
   "id": "4172f475-70b0-4f7b-ab5d-8b4b116c3347",
   "metadata": {},
   "source": [
    "![warning](warning.png)"
   ]
  },
  {
   "cell_type": "markdown",
   "id": "461e67e0-aeb9-437d-9c79-fb9e4f31a3be",
   "metadata": {},
   "source": [
    "### BE CAREFUL FOR THE PATH CHOOSEN FOR **SCRATCH ROOT**, THIS PATH IS THE DIRECTORY WHERE THE RESULT OF THE COMPUTATION WILL BE STORED. WATCH OUT TO NOT OVERWRITE SOMETHING !"
   ]
  },
  {
   "cell_type": "markdown",
   "id": "ed4dbc07-91bc-4d21-86ea-41411d4393bf",
   "metadata": {},
   "source": [
    "___\n",
    "### Explantion of the code below \n",
    "- If the fish has observation over 2 days and has not been processed yet, it starts running a parametrized notebook.\n",
    "- nbs is a list of the notebooks that has been processed, wether they failed or not. This list is used to keep a track of the tags that already has been generated.\n",
    "These two conditions are used in the following way.\n",
    "```\n",
    "observation_length = (recapture_date - release_date) / np.timedelta64(1, \"D\")\n",
    "\n",
    "if ((tag_name not in nbs) and observation_length > 2):  \n",
    "```\n",
    "First, it means that if the fish, based on the tagging events, has a observation period of less than two days, his trajectory will not be computed.\n",
    "Second, It means that you can either choose to regenerate for all the tags that you generated once if you noticed that there was an issue in the results.\n",
    "If the generation was interrupted during the process but the results are valid, you can start back you computation where it has stopped.\n",
    "\n",
    "You might need to update this line of to switch from one behaviour to another, by removing \n",
    "```\n",
    "(tag_name not in nbs) and\n",
    "```\n",
    "from this statement.\n",
    "- The code loops over the tag id present in tag list and calculates the time difference in the tagging events.\n",
    "- If it succeds, the generated notebook is placed papermill_output/done, else, it goes at papermill_output/failed\n",
    " "
   ]
  },
  {
   "cell_type": "code",
   "execution_count": 11,
   "id": "cb6c2217-ff61-40c0-b12b-c2bc6f19c7d7",
   "metadata": {},
   "outputs": [],
   "source": [
    "timezone = pytz.timezone(\"Europe/Paris\")\n",
    "# force resubmits the whole job instead of checking what's been computed already\n",
    "force = False\n",
    "\n",
    "job_dict = {}\n",
    "local_output = Path(local_output)\n",
    "local_output.mkdir(exist_ok=True)\n",
    "\n",
    "nb_output = f\"{scratch_root}/nbs\"\n",
    "s3.mkdir(nb_output, exist_ok=True)\n",
    "\n",
    "job_file = local_output / \"jobs.json\"\n",
    "if job_file.exists() and not force:\n",
    "    with job_file.open() as f:\n",
    "        job_dict = json.load(f)"
   ]
  },
  {
   "cell_type": "code",
   "execution_count": 12,
   "id": "4d776aa6-569b-4240-83fd-38f6f169fa09",
   "metadata": {},
   "outputs": [
    {
     "data": {
      "application/vnd.jupyter.widget-view+json": {
       "model_id": "be5f30b1474f4248983abf56b69b179c",
       "version_major": 2,
       "version_minor": 0
      },
      "text/plain": [
       "Processing tags:   0%|          | 0/15 [00:00<?, ?it/s]"
      ]
     },
     "metadata": {},
     "output_type": "display_data"
    },
    {
     "name": "stdout",
     "output_type": "stream",
     "text": [
      "Submitted AD_A11170 as papermill-ada11170-8jdkp\n",
      "Submitted AD_A11177 as papermill-ada11177-b269k\n",
      "Submitted AD_A11382 as papermill-ada11382-wqkgq\n",
      "Submitted AD_A11384 as papermill-ada11384-f7xfw\n",
      "Submitted AD_A11389 as papermill-ada11389-gq9l9\n",
      "Submitted AD_A11774 as papermill-ada11774-hv8j8\n",
      "Submitted AD_A11786 as papermill-ada11786-lqqpg\n",
      "Submitted AD_A11788 as papermill-ada11788-48fmd\n",
      "Submitted AD_A11791 as papermill-ada11791-q8lbv\n",
      "Submitted AD_A11797 as papermill-ada11797-28ckm\n",
      "Submitted AD_A11799 as papermill-ada11799-kxmrw\n",
      "Submitted AD_A11800 as papermill-ada11800-zddlf\n",
      "Submitted AD_A11801 as papermill-ada11801-6t54t\n",
      "Submitted SV_A11963 as papermill-sva11963-kqs5q\n",
      "{\n",
      " \"s3://gfts-ifremer/bargip/run/minrk/test/nbs/AD_A11170.ipynb\": \"papermill-ada11170-8jdkp\",\n",
      " \"s3://gfts-ifremer/bargip/run/minrk/test/nbs/AD_A11177.ipynb\": \"papermill-ada11177-b269k\",\n",
      " \"s3://gfts-ifremer/bargip/run/minrk/test/nbs/AD_A11382.ipynb\": \"papermill-ada11382-wqkgq\",\n",
      " \"s3://gfts-ifremer/bargip/run/minrk/test/nbs/AD_A11384.ipynb\": \"papermill-ada11384-f7xfw\",\n",
      " \"s3://gfts-ifremer/bargip/run/minrk/test/nbs/AD_A11389.ipynb\": \"papermill-ada11389-gq9l9\",\n",
      " \"s3://gfts-ifremer/bargip/run/minrk/test/nbs/AD_A11774.ipynb\": \"papermill-ada11774-hv8j8\",\n",
      " \"s3://gfts-ifremer/bargip/run/minrk/test/nbs/AD_A11786.ipynb\": \"papermill-ada11786-lqqpg\",\n",
      " \"s3://gfts-ifremer/bargip/run/minrk/test/nbs/AD_A11788.ipynb\": \"papermill-ada11788-48fmd\",\n",
      " \"s3://gfts-ifremer/bargip/run/minrk/test/nbs/AD_A11791.ipynb\": \"papermill-ada11791-q8lbv\",\n",
      " \"s3://gfts-ifremer/bargip/run/minrk/test/nbs/AD_A11797.ipynb\": \"papermill-ada11797-28ckm\",\n",
      " \"s3://gfts-ifremer/bargip/run/minrk/test/nbs/AD_A11799.ipynb\": \"papermill-ada11799-kxmrw\",\n",
      " \"s3://gfts-ifremer/bargip/run/minrk/test/nbs/AD_A11800.ipynb\": \"papermill-ada11800-zddlf\",\n",
      " \"s3://gfts-ifremer/bargip/run/minrk/test/nbs/AD_A11801.ipynb\": \"papermill-ada11801-6t54t\",\n",
      " \"s3://gfts-ifremer/bargip/run/minrk/test/nbs/SV_A11963.ipynb\": \"papermill-sva11963-kqs5q\"\n",
      "}\n",
      "CPU times: user 1.51 s, sys: 241 ms, total: 1.75 s\n",
      "Wall time: 13.4 s\n"
     ]
    }
   ],
   "source": [
    "%%time\n",
    "for tag_name in tqdm(tag_list, desc=\"Processing tags\"):\n",
    "    try:\n",
    "        te = pd.read_csv(s3.open(f\"s3://{tags_repo}{tag_name}/tagging_events.csv\"))\n",
    "        release_date = np.datetime64(\n",
    "            datetime.strptime(te[\"time\"][0], \"%Y-%m-%dT%H:%M:%SZ\")\n",
    "        )\n",
    "        recapture_date = np.datetime64(\n",
    "            datetime.strptime(te[\"time\"][1], \"%Y-%m-%dT%H:%M:%SZ\")\n",
    "        )\n",
    "        observation_length = (recapture_date - release_date) / np.timedelta64(1, \"D\")\n",
    "\n",
    "        if observation_length > 2:\n",
    "            param[\"tag_name\"] = tag_name\n",
    "            output_path = f\"{nb_output}/{tag_name}.ipynb\"\n",
    "            job_id = job_dict.get(output_path)\n",
    "            if not force:\n",
    "                if job_id:\n",
    "                    # already submitted\n",
    "                    print(f\"Already submitted {tag_name} as {job_id}\")\n",
    "                    continue\n",
    "                if s3.exists(output_path):\n",
    "                    print(f\"Already have {output_path}\")\n",
    "                    continue\n",
    "            # kubernetes-safe tag name\n",
    "            safe_tag_name = re.sub(r\"[^a-z0-9-]\", \"\", tag_name.lower())\n",
    "            job_id = kbatch_papermill(\n",
    "                input_notebook,\n",
    "                output_path,\n",
    "                code_dir=pangeo_fish_dir,\n",
    "                s3_code_dir=s3_code_dir,\n",
    "                job_name=f\"papermill-{safe_tag_name}\",\n",
    "                parameters=param,\n",
    "                profile_name=\"big160\",\n",
    "            )\n",
    "            print(f\"Submitted {tag_name} as {job_id}\")\n",
    "            job_dict[output_path] = job_id\n",
    "    except Exception as e:\n",
    "        print(f\"Error for {tag_name}: {e.__class__.__name__}: {e}\")\n",
    "        raise\n",
    "\n",
    "print(json.dumps(job_dict, indent=1))\n",
    "\n",
    "with job_file.open(\"w\") as f:\n",
    "    json.dump(job_dict, f)"
   ]
  },
  {
   "cell_type": "code",
   "execution_count": 15,
   "id": "4df6e3fb-ed66-4123-a548-7f11ff1ccd75",
   "metadata": {},
   "outputs": [
    {
     "data": {
      "application/vnd.jupyter.widget-view+json": {
       "model_id": "fa59aeaf84044d7eb7cd19e3fb709df4",
       "version_major": 2,
       "version_minor": 0
      },
      "text/plain": [
       "jobs:   0%|          | 0/14 [00:00<?, ?it/s]"
      ]
     },
     "metadata": {},
     "output_type": "display_data"
    },
    {
     "data": {
      "application/vnd.jupyter.widget-view+json": {
       "model_id": "d5355683c95043ceb0893624c192ec05",
       "version_major": 2,
       "version_minor": 0
      },
      "text/plain": [
       "Output()"
      ]
     },
     "metadata": {},
     "output_type": "display_data"
    },
    {
     "ename": "KeyboardInterrupt",
     "evalue": "",
     "output_type": "error",
     "traceback": [
      "\u001b[0;31m---------------------------------------------------------------------------\u001b[0m",
      "\u001b[0;31mKeyboardInterrupt\u001b[0m                         Traceback (most recent call last)",
      "Cell \u001b[0;32mIn[15], line 3\u001b[0m\n\u001b[1;32m      1\u001b[0m \u001b[38;5;28;01mfrom\u001b[39;00m \u001b[38;5;21;01mkbatch_papermill\u001b[39;00m \u001b[38;5;28;01mimport\u001b[39;00m wait_for_jobs\n\u001b[0;32m----> 3\u001b[0m \u001b[43mwait_for_jobs\u001b[49m\u001b[43m(\u001b[49m\u001b[38;5;241;43m*\u001b[39;49m\u001b[43mjob_dict\u001b[49m\u001b[38;5;241;43m.\u001b[39;49m\u001b[43mvalues\u001b[49m\u001b[43m(\u001b[49m\u001b[43m)\u001b[49m\u001b[43m)\u001b[49m\n",
      "File \u001b[0;32m/srv/conda/envs/notebook/lib/python3.12/site-packages/kbatch_papermill/_kbatch.py:62\u001b[0m, in \u001b[0;36mwait_for_jobs\u001b[0;34m(stop_on_failure, failure_logs, *job_names)\u001b[0m\n\u001b[1;32m     60\u001b[0m \u001b[38;5;28;01mif\u001b[39;00m watch_job_names:\n\u001b[1;32m     61\u001b[0m     progress\u001b[38;5;241m.\u001b[39mrefresh()\n\u001b[0;32m---> 62\u001b[0m     \u001b[43mtime\u001b[49m\u001b[38;5;241;43m.\u001b[39;49m\u001b[43msleep\u001b[49m\u001b[43m(\u001b[49m\u001b[38;5;241;43m1\u001b[39;49m\u001b[43m)\u001b[49m\n\u001b[1;32m     63\u001b[0m     \u001b[38;5;28;01mwith\u001b[39;00m out:\n\u001b[1;32m     64\u001b[0m         clear_output(wait\u001b[38;5;241m=\u001b[39m\u001b[38;5;28;01mTrue\u001b[39;00m)\n",
      "\u001b[0;31mKeyboardInterrupt\u001b[0m: "
     ]
    }
   ],
   "source": [
    "from kbatch_papermill import wait_for_jobs\n",
    "\n",
    "wait_for_jobs(*job_dict.values())"
   ]
  },
  {
   "cell_type": "code",
   "execution_count": 22,
   "id": "aa5ea1c9-1809-4a38-92a3-4d82ac83ff92",
   "metadata": {},
   "outputs": [
    {
     "data": {
      "text/plain": [
       "{'s3://gfts-ifremer/bargip/run/minrk/test/nbs/AD_A11170.ipynb': 'papermill-ada11170-ns8jb',\n",
       " 's3://gfts-ifremer/bargip/run/minrk/test/nbs/AD_A11177.ipynb': 'papermill-ada11177-pf95f',\n",
       " 's3://gfts-ifremer/bargip/run/minrk/test/nbs/AD_A11382.ipynb': 'papermill-ada11382-nlvzv',\n",
       " 's3://gfts-ifremer/bargip/run/minrk/test/nbs/AD_A11384.ipynb': 'papermill-ada11384-769s8',\n",
       " 's3://gfts-ifremer/bargip/run/minrk/test/nbs/AD_A11389.ipynb': 'papermill-ada11389-9vxpm',\n",
       " 's3://gfts-ifremer/bargip/run/minrk/test/nbs/AD_A11774.ipynb': 'papermill-ada11774-tkqld',\n",
       " 's3://gfts-ifremer/bargip/run/minrk/test/nbs/AD_A11786.ipynb': 'papermill-ada11786-68mwr',\n",
       " 's3://gfts-ifremer/bargip/run/minrk/test/nbs/AD_A11788.ipynb': 'papermill-ada11788-5lsbh',\n",
       " 's3://gfts-ifremer/bargip/run/minrk/test/nbs/AD_A11791.ipynb': 'papermill-ada11791-qmxkk',\n",
       " 's3://gfts-ifremer/bargip/run/minrk/test/nbs/AD_A11797.ipynb': 'papermill-ada11797-jqrr5',\n",
       " 's3://gfts-ifremer/bargip/run/minrk/test/nbs/AD_A11799.ipynb': 'papermill-ada11799-2f95n',\n",
       " 's3://gfts-ifremer/bargip/run/minrk/test/nbs/AD_A11800.ipynb': 'papermill-ada11800-2njql',\n",
       " 's3://gfts-ifremer/bargip/run/minrk/test/nbs/AD_A11801.ipynb': 'papermill-ada11801-z4h59',\n",
       " 's3://gfts-ifremer/bargip/run/minrk/test/nbs/SV_A11963.ipynb': 'papermill-sva11963-l86cs'}"
      ]
     },
     "execution_count": 22,
     "metadata": {},
     "output_type": "execute_result"
    }
   ],
   "source": [
    "job_dict"
   ]
  },
  {
   "cell_type": "code",
   "execution_count": 16,
   "id": "3a84d412-faee-44ea-8d34-1c8f6cb5638d",
   "metadata": {},
   "outputs": [
    {
     "name": "stdout",
     "output_type": "stream",
     "text": [
      "\u001b[01;34mpapermill_output/nbs\u001b[0m\n",
      "├── \u001b[00mAD_A11170.ipynb\u001b[0m\n",
      "├── \u001b[00mAD_A11177.ipynb\u001b[0m\n",
      "├── \u001b[00mAD_A11382.ipynb\u001b[0m\n",
      "├── \u001b[00mAD_A11384.ipynb\u001b[0m\n",
      "├── \u001b[00mAD_A11389.ipynb\u001b[0m\n",
      "├── \u001b[00mAD_A11774.ipynb\u001b[0m\n",
      "├── \u001b[00mAD_A11786.ipynb\u001b[0m\n",
      "├── \u001b[00mAD_A11788.ipynb\u001b[0m\n",
      "├── \u001b[00mAD_A11791.ipynb\u001b[0m\n",
      "├── \u001b[00mAD_A11797.ipynb\u001b[0m\n",
      "├── \u001b[00mAD_A11799.ipynb\u001b[0m\n",
      "├── \u001b[00mAD_A11800.ipynb\u001b[0m\n",
      "├── \u001b[00mAD_A11801.ipynb\u001b[0m\n",
      "└── \u001b[00mSV_A11963.ipynb\u001b[0m\n",
      "\n",
      "0 directories, 14 files\n"
     ]
    }
   ],
   "source": [
    "local_nbs = local_output / \"nbs\"\n",
    "s3.get(f\"{nb_output}/*\", local_nbs, recursive=True)\n",
    "!tree {local_nbs}"
   ]
  },
  {
   "cell_type": "code",
   "execution_count": 17,
   "id": "1bfdcca4-fdb9-4e95-83b5-0d8371a99b8d",
   "metadata": {},
   "outputs": [
    {
     "data": {
      "text/html": [
       "<pre style=\"white-space:pre;overflow-x:auto;line-height:normal;font-family:Menlo,'DejaVu Sans Mono',consolas,'Courier New',monospace\"><span style=\"font-style: italic\">                                    Jobs                                     </span>\n",
       "┏━━━━━━━━━━━━━━━━━━━━━━━━━━┳━━━━━━━━━━━━━━━━━━━━━━━━━━━┳━━━━━━━━━┳━━━━━━━━━━┓\n",
       "┃<span style=\"font-weight: bold\"> job name                 </span>┃<span style=\"font-weight: bold\"> submitted                 </span>┃<span style=\"font-weight: bold\"> status  </span>┃<span style=\"font-weight: bold\"> duration </span>┃\n",
       "┡━━━━━━━━━━━━━━━━━━━━━━━━━━╇━━━━━━━━━━━━━━━━━━━━━━━━━━━╇━━━━━━━━━╇━━━━━━━━━━┩\n",
       "│<span style=\"font-weight: bold\"> papermill-ada11170-8jdkp </span>│ 2024-10-07T13:04:15+00:00 │ <span style=\"color: #008000; text-decoration-color: #008000\">done</span>    │ 0:09:16  │\n",
       "│<span style=\"font-weight: bold\"> papermill-ada11177-b269k </span>│ 2024-10-07T13:04:16+00:00 │ <span style=\"color: #008000; text-decoration-color: #008000\">done</span>    │ 0:09:22  │\n",
       "│<span style=\"font-weight: bold\"> papermill-ada11382-wqkgq </span>│ 2024-10-07T13:04:17+00:00 │ <span style=\"color: #800000; text-decoration-color: #800000\">failed</span>  │ -        │\n",
       "│<span style=\"font-weight: bold\"> papermill-ada11384-f7xfw </span>│ 2024-10-07T13:04:18+00:00 │ <span style=\"color: #008000; text-decoration-color: #008000\">done</span>    │ 0:14:29  │\n",
       "│<span style=\"font-weight: bold\"> papermill-ada11389-gq9l9 </span>│ 2024-10-07T13:04:18+00:00 │ <span style=\"font-weight: bold\">running</span> │ 0:29:03  │\n",
       "│<span style=\"font-weight: bold\"> papermill-ada11774-hv8j8 </span>│ 2024-10-07T13:04:20+00:00 │ <span style=\"color: #008000; text-decoration-color: #008000\">done</span>    │ 0:10:43  │\n",
       "│<span style=\"font-weight: bold\"> papermill-ada11786-lqqpg </span>│ 2024-10-07T13:04:20+00:00 │ <span style=\"color: #800000; text-decoration-color: #800000\">failed</span>  │ -        │\n",
       "│<span style=\"font-weight: bold\"> papermill-ada11788-48fmd </span>│ 2024-10-07T13:04:21+00:00 │ <span style=\"color: #008000; text-decoration-color: #008000\">done</span>    │ 0:10:30  │\n",
       "│<span style=\"font-weight: bold\"> papermill-ada11791-q8lbv </span>│ 2024-10-07T13:04:22+00:00 │ <span style=\"color: #008000; text-decoration-color: #008000\">done</span>    │ 0:26:51  │\n",
       "│<span style=\"font-weight: bold\"> papermill-ada11797-28ckm </span>│ 2024-10-07T13:04:23+00:00 │ <span style=\"color: #008000; text-decoration-color: #008000\">done</span>    │ 0:23:13  │\n",
       "│<span style=\"font-weight: bold\"> papermill-ada11799-kxmrw </span>│ 2024-10-07T13:04:24+00:00 │ <span style=\"color: #008000; text-decoration-color: #008000\">done</span>    │ 0:17:15  │\n",
       "│<span style=\"font-weight: bold\"> papermill-ada11800-zddlf </span>│ 2024-10-07T13:04:25+00:00 │ <span style=\"font-weight: bold\">running</span> │ 0:28:56  │\n",
       "│<span style=\"font-weight: bold\"> papermill-ada11801-6t54t </span>│ 2024-10-07T13:04:26+00:00 │ <span style=\"font-weight: bold\">running</span> │ 0:28:55  │\n",
       "│<span style=\"font-weight: bold\"> papermill-sva11963-kqs5q </span>│ 2024-10-07T13:04:27+00:00 │ <span style=\"color: #008000; text-decoration-color: #008000\">done</span>    │ 0:26:20  │\n",
       "└──────────────────────────┴───────────────────────────┴─────────┴──────────┘\n",
       "</pre>\n"
      ],
      "text/plain": [
       "\u001b[3m                                    Jobs                                     \u001b[0m\n",
       "┏━━━━━━━━━━━━━━━━━━━━━━━━━━┳━━━━━━━━━━━━━━━━━━━━━━━━━━━┳━━━━━━━━━┳━━━━━━━━━━┓\n",
       "┃\u001b[1m \u001b[0m\u001b[1mjob name                \u001b[0m\u001b[1m \u001b[0m┃\u001b[1m \u001b[0m\u001b[1msubmitted                \u001b[0m\u001b[1m \u001b[0m┃\u001b[1m \u001b[0m\u001b[1mstatus \u001b[0m\u001b[1m \u001b[0m┃\u001b[1m \u001b[0m\u001b[1mduration\u001b[0m\u001b[1m \u001b[0m┃\n",
       "┡━━━━━━━━━━━━━━━━━━━━━━━━━━╇━━━━━━━━━━━━━━━━━━━━━━━━━━━╇━━━━━━━━━╇━━━━━━━━━━┩\n",
       "│\u001b[1m \u001b[0m\u001b[1mpapermill-ada11170-8jdkp\u001b[0m\u001b[1m \u001b[0m│ 2024-10-07T13:04:15+00:00 │ \u001b[32mdone\u001b[0m    │ 0:09:16  │\n",
       "│\u001b[1m \u001b[0m\u001b[1mpapermill-ada11177-b269k\u001b[0m\u001b[1m \u001b[0m│ 2024-10-07T13:04:16+00:00 │ \u001b[32mdone\u001b[0m    │ 0:09:22  │\n",
       "│\u001b[1m \u001b[0m\u001b[1mpapermill-ada11382-wqkgq\u001b[0m\u001b[1m \u001b[0m│ 2024-10-07T13:04:17+00:00 │ \u001b[31mfailed\u001b[0m  │ -        │\n",
       "│\u001b[1m \u001b[0m\u001b[1mpapermill-ada11384-f7xfw\u001b[0m\u001b[1m \u001b[0m│ 2024-10-07T13:04:18+00:00 │ \u001b[32mdone\u001b[0m    │ 0:14:29  │\n",
       "│\u001b[1m \u001b[0m\u001b[1mpapermill-ada11389-gq9l9\u001b[0m\u001b[1m \u001b[0m│ 2024-10-07T13:04:18+00:00 │ \u001b[1mrunning\u001b[0m │ 0:29:03  │\n",
       "│\u001b[1m \u001b[0m\u001b[1mpapermill-ada11774-hv8j8\u001b[0m\u001b[1m \u001b[0m│ 2024-10-07T13:04:20+00:00 │ \u001b[32mdone\u001b[0m    │ 0:10:43  │\n",
       "│\u001b[1m \u001b[0m\u001b[1mpapermill-ada11786-lqqpg\u001b[0m\u001b[1m \u001b[0m│ 2024-10-07T13:04:20+00:00 │ \u001b[31mfailed\u001b[0m  │ -        │\n",
       "│\u001b[1m \u001b[0m\u001b[1mpapermill-ada11788-48fmd\u001b[0m\u001b[1m \u001b[0m│ 2024-10-07T13:04:21+00:00 │ \u001b[32mdone\u001b[0m    │ 0:10:30  │\n",
       "│\u001b[1m \u001b[0m\u001b[1mpapermill-ada11791-q8lbv\u001b[0m\u001b[1m \u001b[0m│ 2024-10-07T13:04:22+00:00 │ \u001b[32mdone\u001b[0m    │ 0:26:51  │\n",
       "│\u001b[1m \u001b[0m\u001b[1mpapermill-ada11797-28ckm\u001b[0m\u001b[1m \u001b[0m│ 2024-10-07T13:04:23+00:00 │ \u001b[32mdone\u001b[0m    │ 0:23:13  │\n",
       "│\u001b[1m \u001b[0m\u001b[1mpapermill-ada11799-kxmrw\u001b[0m\u001b[1m \u001b[0m│ 2024-10-07T13:04:24+00:00 │ \u001b[32mdone\u001b[0m    │ 0:17:15  │\n",
       "│\u001b[1m \u001b[0m\u001b[1mpapermill-ada11800-zddlf\u001b[0m\u001b[1m \u001b[0m│ 2024-10-07T13:04:25+00:00 │ \u001b[1mrunning\u001b[0m │ 0:28:56  │\n",
       "│\u001b[1m \u001b[0m\u001b[1mpapermill-ada11801-6t54t\u001b[0m\u001b[1m \u001b[0m│ 2024-10-07T13:04:26+00:00 │ \u001b[1mrunning\u001b[0m │ 0:28:55  │\n",
       "│\u001b[1m \u001b[0m\u001b[1mpapermill-sva11963-kqs5q\u001b[0m\u001b[1m \u001b[0m│ 2024-10-07T13:04:27+00:00 │ \u001b[32mdone\u001b[0m    │ 0:26:20  │\n",
       "└──────────────────────────┴───────────────────────────┴─────────┴──────────┘\n"
      ]
     },
     "metadata": {},
     "output_type": "display_data"
    }
   ],
   "source": [
    "import kbatch_papermill\n",
    "\n",
    "kbatch_papermill.print_job_status()"
   ]
  },
  {
   "cell_type": "code",
   "execution_count": 31,
   "id": "9677f3ce-f2a4-4b42-99ce-4b32f1a6a199",
   "metadata": {},
   "outputs": [
    {
     "name": "stdout",
     "output_type": "stream",
     "text": [
      "\n",
      "Ending Cell 75-----------------------------------------\n",
      "Executing Cell 76--------------------------------------\n",
      "Resources: Memory increased 84GiB -> 86GiB (4s)\n",
      "\n",
      "Resources: Memory increased 86GiB -> 88GiB (4s)\n",
      "\n",
      "Resources: Memory increased 88GiB -> 90GiB (5s)\n",
      "\n",
      "Resources: Memory increased 90GiB -> 92GiB (5s)\n",
      "\n",
      "Resources: Memory increased 92GiB -> 95GiB (11s)\n",
      "\n",
      "<xarray.backends.zarr.ZarrStore at 0x7f136baf8040>\n",
      "Resources: cpu=2.9, mem=95GiB, duration=14s\n",
      "\n",
      "Ending Cell 76-----------------------------------------\n",
      "Executing Cell 77--------------------------------------\n",
      "Resources: Memory increased 99GiB -> 102GiB (2s)\n",
      "\n",
      "TrajectoryCollection with 2 trajectories\n",
      "Resources: cpu=12.0, mem=102GiB, duration=3s\n",
      "\n",
      "Ending Cell 77-----------------------------------------\n",
      "Executing Cell 78--------------------------------------\n",
      "Resources: cpu=0.0, mem=93GiB, duration=0s\n",
      "\n",
      "Ending Cell 78-----------------------------------------\n",
      "Executing Cell 79--------------------------------------\n",
      "Resources: cpu=0.0, mem=83GiB, duration=0s\n",
      "\n",
      "Ending Cell 79-----------------------------------------\n",
      "\n"
     ]
    }
   ],
   "source": [
    "print(\"\".join(kbatch.job_logs(list(job_dict.values())[-1]).splitlines(True)[-32:]))"
   ]
  },
  {
   "cell_type": "code",
   "execution_count": 30,
   "id": "fb57712f-8cd4-482d-95eb-159ee456783b",
   "metadata": {},
   "outputs": [
    {
     "name": "stdout",
     "output_type": "stream",
     "text": [
      "Exception encountered at \"In [23]\":\n",
      "---------------------------------------------------------------------------\n",
      "ServerDisconnectedError                   Traceback (most recent call last)\n",
      "Cell In[23], line 2\n",
      "      1 # Verify the data\n",
      "----> 2 diff[\"diff\"].count([\"lat\",\"lon\"]).plot()\n",
      "\n",
      "File /srv/conda/envs/notebook/lib/python3.12/site-packages/xarray/plot/accessor.py:48, in DataArrayPlotAccessor.__call__(self, **kwargs)\n",
      "     46 @functools.wraps(dataarray_plot.plot, assigned=(\"__doc__\", \"__annotations__\"))\n",
      "     47 def __call__(self, **kwargs) -> Any:\n",
      "---> 48     return dataarray_plot.plot(self._da, **kwargs)\n",
      "\n",
      "File /srv/conda/envs/notebook/lib/python3.12/site-packages/xarray/plot/dataarray_plot.py:270, in plot(darray, row, col, col_wrap, ax, hue, subplot_kws, **kwargs)\n",
      "    219 def plot(\n",
      "    220     darray: DataArray,\n",
      "    221     *,\n",
      "   (...)\n",
      "    228     **kwargs: Any,\n",
      "    229 ) -> Any:\n",
      "    230     \"\"\"\n",
      "    231     Default plot of DataArray using :py:mod:`matplotlib:matplotlib.pyplot`.\n",
      "    232 \n",
      "   (...)\n",
      "    266     xarray.DataArray.squeeze\n",
      "    267     \"\"\"\n",
      "    268     darray = darray.squeeze(\n",
      "    269         d for d, s in darray.sizes.items() if s == 1 and d not in (row, col, hue)\n",
      "--> 270     ).compute()\n",
      "    272     plot_dims = set(darray.dims)\n",
      "    273     plot_dims.discard(row)\n",
      "\n",
      "File /srv/conda/envs/notebook/lib/python3.12/site-packages/xarray/core/dataarray.py:1194, in DataArray.compute(self, **kwargs)\n",
      "\n"
     ]
    }
   ],
   "source": [
    "# print the output for a failed job\n",
    "failed_job = list(job_dict.values())[6]\n",
    "logs = kbatch.job_logs(failed_job)\n",
    "idx = logs.index(\"Exception encountered\")\n",
    "print(\"\".join(logs[idx:].splitlines(True)[:32]))\n",
    "# print(''.join(kbatch.job_logs(list(job_dict.values())[6]).splitlines(True)[-250:-90]))"
   ]
  }
 ],
 "metadata": {
  "kernelspec": {
   "display_name": "Python 3 (ipykernel)",
   "language": "python",
   "name": "python3"
  },
  "language_info": {
   "codemirror_mode": {
    "name": "ipython",
    "version": 3
   },
   "file_extension": ".py",
   "mimetype": "text/x-python",
   "name": "python",
   "nbconvert_exporter": "python",
   "pygments_lexer": "ipython3",
   "version": "3.12.5"
  }
 },
 "nbformat": 4,
 "nbformat_minor": 5
}
