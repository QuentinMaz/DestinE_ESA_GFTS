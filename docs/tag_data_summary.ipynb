{
 "cells": [
  {
   "cell_type": "markdown",
   "id": "9c4cbc2e-d812-42d3-979e-2472879f82cf",
   "metadata": {},
   "source": [
    "# Notebook to summarize the tag data"
   ]
  },
  {
   "cell_type": "markdown",
   "id": "2e7d9f69-199c-4a0c-bb20-88c87929bdce",
   "metadata": {},
   "source": [
    "### This notebook aims to provide you with simple functions for overviewing your biologging data\n",
    "\n",
    "**As such, we expect you to have pre-processed the raw data of your biologging campaign as previously introduced.**"
   ]
  },
  {
   "cell_type": "markdown",
   "id": "534c2231-5917-4c97-87f7-add4f7db621e",
   "metadata": {},
   "source": [
    "# 0. Notebook Initialization"
   ]
  },
  {
   "cell_type": "code",
   "execution_count": null,
   "id": "f2e1558a",
   "metadata": {},
   "outputs": [],
   "source": [
    "# needed for now...\n",
    "!pip install rich zstandard\n",
    "!pip install \"xarray-healpy @ git+https://github.com/iaocea/xarray-healpy.git@0ffca6058f4008f4f22f076e2d60787fcf32ac82\"\n",
    "!pip install movingpandas more_itertools\n",
    "!pip install xarray --upgrade\n",
    "!pip install xdggs\n",
    "!pip install git+https://github.com/IAOCEA/healpix-convolution"
   ]
  },
  {
   "cell_type": "code",
   "execution_count": null,
   "id": "048d1d7d-5fc6-44d1-bd51-b193eaa576e5",
   "metadata": {},
   "outputs": [],
   "source": [
    "# Python imports\n",
    "import os\n",
    "import sys\n",
    "import warnings\n",
    "from pathlib import Path\n",
    "\n",
    "import holoviews as hv\n",
    "import hvplot\n",
    "import hvplot.pandas\n",
    "import hvplot.xarray\n",
    "import numpy as np\n",
    "import pandas as pd\n",
    "import s3fs\n",
    "import tqdm\n",
    "import xarray as xr"
   ]
  },
  {
   "cell_type": "markdown",
   "id": "98c8058b-434b-40a1-aefc-bddb6e10093c",
   "metadata": {},
   "source": [
    "**Update the variables below with your data.**"
   ]
  },
  {
   "cell_type": "code",
   "execution_count": null,
   "id": "77935725-9a88-451b-b189-669dd957e2a8",
   "metadata": {},
   "outputs": [],
   "source": [
    "TAG_ROOT = \"path_to_your_formatted_tag_folder/\""
   ]
  },
  {
   "cell_type": "code",
   "execution_count": null,
   "id": "098b07f2-37bf-4b4c-93e7-6d19b9171804",
   "metadata": {},
   "outputs": [],
   "source": [
    "storage_options = {\n",
    "    \"anon\": False,\n",
    "    \"profile\": \"gfts\",\n",
    "    \"client_kwargs\": {\n",
    "        \"endpoint_url\": \"https://s3.gra.perf.cloud.ovh.net/\",\n",
    "        \"region_name\": \"gra\",\n",
    "    },\n",
    "}\n",
    "s3 = s3fs.S3FileSystem(**storage_options)\n",
    "tag_names = [\n",
    "    tn.replace(TAG_ROOT, \"\") for tn in s3.ls(TAG_ROOT) if not tn.endswith(\".csv\")\n",
    "]\n",
    "print(f'Found {len(tag_names)} in tag folder(s) in: \"{TAG_ROOT}.\"')"
   ]
  },
  {
   "cell_type": "markdown",
   "id": "a4ba912a-06dd-4693-a56c-efcbf5dd228a",
   "metadata": {},
   "source": [
    "# 1. Release Locations Overview\n",
    "\n",
    "In this first section, we visualize the release locations. \n",
    "We have implemented static and dynamic visualizations (which can be useful if you want to interact with the map"
   ]
  },
  {
   "cell_type": "code",
   "execution_count": null,
   "id": "1702a54d-7fbf-4fcf-b914-a755cafec6c1",
   "metadata": {},
   "outputs": [],
   "source": [
    "def aggregate_release_locations(\n",
    "    paths: list[str], labels: list[str], storage_options: dict\n",
    "):\n",
    "    if len(paths) != len(labels):\n",
    "        raise ValueError(\n",
    "            \"the number of labels provided is different than the number of paths.\"\n",
    "        )\n",
    "\n",
    "    pbar = tqdm.tqdm(paths, file=sys.stdout)\n",
    "    lons, lats = [], []\n",
    "    aws_prefix = \"s3://\"\n",
    "    for p in pbar:\n",
    "        if not p.startswith(aws_prefix):\n",
    "            p = aws_prefix + p\n",
    "        df = pd.read_csv(\n",
    "            p, storage_options=storage_options, index_col=\"event_name\"\n",
    "        )  # .assign(time=lambda df: pd.to_datetime(df[\"time\"]))\n",
    "        s = df.loc[\"release\"]\n",
    "        lon = s.longitude\n",
    "        lat = s.latitude\n",
    "        lons.append(lon)\n",
    "        lats.append(lat)\n",
    "    data = {\"tag_name\": labels, \"longitude\": lons, \"latitude\": lats}\n",
    "    pbar.close()\n",
    "    return pd.DataFrame.from_dict(data, orient=\"columns\")"
   ]
  },
  {
   "cell_type": "code",
   "execution_count": null,
   "id": "86357696-a89e-49a2-9f40-b92339393f12",
   "metadata": {},
   "outputs": [],
   "source": [
    "df_paths = s3.glob(TAG_ROOT + \"*/tagging_events.csv\")\n",
    "df = aggregate_release_locations(df_paths, tag_names, storage_options)\n",
    "df.head(3)"
   ]
  },
  {
   "cell_type": "markdown",
   "id": "ff2ea4d7-467a-4db8-944c-be0c2388af0f",
   "metadata": {},
   "source": [
    "## a. Static Visualization"
   ]
  },
  {
   "cell_type": "code",
   "execution_count": null,
   "id": "dd72524c-30be-40fa-bd57-a1d1ba1aeccd",
   "metadata": {},
   "outputs": [],
   "source": [
    "import cartopy.crs as ccrs\n",
    "import cartopy.feature as cf\n",
    "import matplotlib.pyplot as plt\n",
    "import pandas as pd\n",
    "\n",
    "\n",
    "def static_plot(df: pd.DataFrame, margin=2.5, label_col: str = None):\n",
    "    \"\"\"Static Visualization of data points.\n",
    "\n",
    "    Parameters\n",
    "    ----------\n",
    "    df : pandas.DataFrame\n",
    "        The dataframe of the data points\n",
    "    margin : float, default: 2.5\n",
    "        Offset to extend the longitude and latitude ranges of the plot\n",
    "    label_col : str, default: None\n",
    "        Name of the column to label the points. If set to None, no labels are added\n",
    "\n",
    "    Returns\n",
    "    -------\n",
    "    figure : matplotlib.figure.Figure\n",
    "        The figure\n",
    "    \"\"\"\n",
    "\n",
    "    ccr = ccrs.PlateCarree()\n",
    "\n",
    "    fig, ax = plt.subplots(figsize=(8, 6), subplot_kw={\"projection\": ccr})\n",
    "\n",
    "    gridlines_kwargs = {\n",
    "        \"crs\": ccr,\n",
    "        \"draw_labels\": True,\n",
    "        \"linewidth\": 0.6,\n",
    "        \"color\": \"gray\",\n",
    "        \"alpha\": 0.5,\n",
    "        \"linestyle\": \"-.\",\n",
    "    }\n",
    "    # coastlines\n",
    "    ax.add_feature(cf.COASTLINE.with_scale(\"10m\"), lw=0.5)\n",
    "    # gridlines\n",
    "    gl = ax.gridlines(**gridlines_kwargs)\n",
    "    # gl.right_labels = False\n",
    "    # gl.top_labels = False\n",
    "\n",
    "    ax.scatter(df[\"longitude\"], df[\"latitude\"], s=20)\n",
    "\n",
    "    if label_col is not None:\n",
    "        for i, row in df.iterrows():\n",
    "            ax.text(\n",
    "                row[\"longitude\"],\n",
    "                row[\"latitude\"],\n",
    "                row[label_col],\n",
    "                fontsize=10,\n",
    "                ha=\"right\",\n",
    "                transform=ccr,\n",
    "            )\n",
    "\n",
    "    ax.set_title(\"\")\n",
    "    ax.set_xlabel(\"Longitude\")\n",
    "    ax.set_ylabel(\"Latitude\")\n",
    "    ax.set_extent(\n",
    "        [\n",
    "            df[\"longitude\"].min() - margin,\n",
    "            df[\"longitude\"].max() + margin,\n",
    "            df[\"latitude\"].min() - margin,\n",
    "            df[\"latitude\"].max() + margin\n",
    "        ], crs=ccr)\n",
    "\n",
    "    return fig"
   ]
  },
  {
   "cell_type": "code",
   "execution_count": null,
   "id": "86f1f94b-4a4b-48fc-91c1-e7a5124bf5c0",
   "metadata": {},
   "outputs": [],
   "source": [
    "figure = static_plot(df, label_col=None)"
   ]
  },
  {
   "cell_type": "code",
   "execution_count": null,
   "id": "c2f4e3c5-4f98-46c4-81db-3e35a9aebf94",
   "metadata": {},
   "outputs": [],
   "source": [
    "figure.savefig(\"release_locations.png\")"
   ]
  },
  {
   "cell_type": "markdown",
   "id": "8065041e-6750-46a7-bd7a-476143a218a6",
   "metadata": {},
   "source": [
    "## b. Dynamic Visualization"
   ]
  },
  {
   "cell_type": "code",
   "execution_count": null,
   "id": "92d8cb15-42ae-4e48-98b0-8aad26edef2f",
   "metadata": {},
   "outputs": [],
   "source": [
    "import hvplot.pandas\n",
    "import pandas as pd\n",
    "import geoviews as gv\n",
    "import cartopy.crs as ccrs\n",
    "\n",
    "def dynamic_plot(df: pd.DataFrame, margin=2.5, **points_kwargs):\n",
    "    \"\"\"Plots data points.\n",
    "\n",
    "    Parameters\n",
    "    ----------\n",
    "    df : pandas.DataFrame\n",
    "        The dataframe of the data points\n",
    "    margin : float, default: 2.5\n",
    "        Offset to extend the longitude and latitude ranges of the plot\n",
    "\n",
    "    Returns\n",
    "    -------\n",
    "    plot : holoviews.Overlay\n",
    "        The combined plot of the points with coastlines and borders\n",
    "\n",
    "    Other Parameters\n",
    "    ----------------\n",
    "    **points_kwargs : dict\n",
    "        Additional keyword arguments to pass to ``df.hvplot.points``\n",
    "    \"\"\"\n",
    "\n",
    "    points = df.hvplot.points(\n",
    "        x=\"longitude\", y=\"latitude\", geo=True,\n",
    "        projection=ccrs.PlateCarree(),\n",
    "        hover_cols=[\"tag_name\"],\n",
    "        xlim=[df[\"longitude\"].min() - margin, df[\"longitude\"].max() + margin],\n",
    "        ylim=[df[\"latitude\"].min() - margin, df[\"latitude\"].max() + margin],\n",
    "        **points_kwargs\n",
    "    )\n",
    "    coastlines = gv.feature.coastline()\n",
    "    return (coastlines * points)"
   ]
  },
  {
   "cell_type": "code",
   "execution_count": null,
   "id": "84441c0e-2da0-48fc-8786-3c6df6e0cca6",
   "metadata": {},
   "outputs": [],
   "source": [
    "plot = dynamic_plot(df, size=20, title=\"Release Locations\")\n",
    "plot"
   ]
  },
  {
   "cell_type": "markdown",
   "id": "0e3a4675-6303-43a6-9b3a-4f910bd605b5",
   "metadata": {},
   "source": [
    "# 2. Summary Table\n",
    "\n",
    "In this second section, we create a table (using `pandas`) that summarises the following information for each tag:\n",
    "- The name/id of the tag, defined by the name of the tag folder.\n",
    "- Whether it has acoustic detections.\n",
    "- Whether it has a final position.\n",
    "- Start and end times.\n",
    "- Duration in days.\n",
    "\n",
    "**NB: Note that the section relies (and thus depends) on the `pangeo-fish` package:**"
   ]
  },
  {
   "cell_type": "code",
   "execution_count": null,
   "id": "dad292fe-cb0c-4d09-bf75-612befdef967",
   "metadata": {},
   "outputs": [],
   "source": [
    "import sys\n",
    "\n",
    "sys.path.append(\"path_to_pangeo_fish\")\n",
    "\n",
    "# or %pip install pangeo-fish"
   ]
  },
  {
   "cell_type": "code",
   "execution_count": null,
   "id": "3a91827f-d38a-4ea1-bd6a-86ae0c1f7cd3",
   "metadata": {},
   "outputs": [],
   "source": [
    "from pangeo_fish.io import open_tag"
   ]
  },
  {
   "cell_type": "code",
   "execution_count": null,
   "id": "91ca41c4-53d1-41a0-aa61-5b88296b078b",
   "metadata": {},
   "outputs": [],
   "source": [
    "import numpy as np\n",
    "import xarray as xr\n",
    "\n",
    "def summarize_tag(tag: xr.DataTree):\n",
    "    \"\"\"Summarizes a tag.\n",
    "\n",
    "    Parameters\n",
    "    ----------\n",
    "    tag : xarray.DataTree\n",
    "        The tag\n",
    "\n",
    "    Returns\n",
    "    -------\n",
    "    has_acoustic_detection : bool\n",
    "        Whether `tag` has acoustic detections\n",
    "    has_final_position : bool\n",
    "        Whether `tag` has a final location\n",
    "    start, end : numpy.datetime64\n",
    "        Start and end times of `tag`\n",
    "    duration : int\n",
    "        Duration of `tag` in days\n",
    "\n",
    "    See Also\n",
    "    --------\n",
    "    pangeo_fish.io.open_tag : To load a tag.\n",
    "    \"\"\"\n",
    "    #TODO: improve acoustic boolean assignment\n",
    "    has_acoustic_detection = len(tag.groups) == 5\n",
    "    has_final_position = (\n",
    "        bool(\n",
    "            np.isnan(tag.tagging_events.isel(event_name=1)[\"longitude\"].to_numpy())\n",
    "            or np.isnan(tag.tagging_events.isel(event_name=1)[\"latitude\"].to_numpy())\n",
    "        )\n",
    "        == False\n",
    "    )\n",
    "    start = np.datetime64(tag[\"dst\"].isel(time=0).time.to_numpy())\n",
    "    end = np.datetime64(tag[\"dst\"].isel(time=-1).time.to_numpy())\n",
    "    delta = end - start\n",
    "    duration_in_days = int(delta / np.timedelta64(1, \"D\"))\n",
    "    return has_acoustic_detection, has_final_position, start, end, duration_in_days"
   ]
  },
  {
   "cell_type": "code",
   "execution_count": null,
   "id": "c6ab03a7-4383-400b-bd72-a20de1cfcc5b",
   "metadata": {},
   "outputs": [],
   "source": [
    "pbar = tqdm.tqdm(tag_names, file=sys.stdout)\n",
    "summary = {}\n",
    "failed_tags = []\n",
    "tag_root = TAG_ROOT if TAG_ROOT.startswith(\"s3://\") else \"s3://\" + TAG_ROOT\n",
    "for tag_name in pbar:\n",
    "    try:\n",
    "        summary[tag_name] = summarize_tag(open_tag(tag_root, tag_name, storage_options))\n",
    "    except Exception as e:\n",
    "        print(f\"EXCEPTION {tag_name}: {str(e)}.\")\n",
    "        failed_tags.append(tag_name)\n",
    "\n",
    "pbar.close()\n",
    "\n",
    "# summary = {}\n",
    "# for tag_name in tag_dirs:\n",
    "#     print(tag_name)\n",
    "#     summary[tag_name] = summarize_tag(\n",
    "#         open_tag(tag_root, tag_name, storage_options)\n",
    "#     )"
   ]
  },
  {
   "cell_type": "code",
   "execution_count": null,
   "id": "023a72cb-3763-4d5e-b0a4-ddb814dc6b14",
   "metadata": {
    "scrolled": true
   },
   "outputs": [],
   "source": [
    "import pandas as pd\n",
    "\n",
    "columns = [\n",
    "    \"Acoustic Detection\",\n",
    "    \"Has Final Position\",\n",
    "    \"Start\",\n",
    "    \"End\",\n",
    "    \"Duration [days]\",\n",
    "]\n",
    "df = pd.DataFrame.from_dict(summary, orient=\"index\", columns=columns)\n",
    "df.head(3)"
   ]
  },
  {
   "cell_type": "markdown",
   "id": "b6719076-5b32-4fe5-9144-0444f1fab803",
   "metadata": {},
   "source": [
    "you can sort `df` with the tags' duration, names etc."
   ]
  },
  {
   "cell_type": "code",
   "execution_count": null,
   "id": "44b9fe45-8c62-4276-a0d4-814e9ee1cff8",
   "metadata": {
    "scrolled": true
   },
   "outputs": [],
   "source": [
    "df.sort_values(by=[columns[-1]], inplace=True) # by durations"
   ]
  },
  {
   "cell_type": "code",
   "execution_count": null,
   "id": "2e9c0f12-e213-44d3-817b-69a7cfaff8e9",
   "metadata": {},
   "outputs": [],
   "source": [
    "output_folder = Path(\".\")\n",
    "table_fn = \"csv_filename.csv\""
   ]
  },
  {
   "cell_type": "code",
   "execution_count": null,
   "id": "72e61849-9a5c-4974-a0b2-fa9e5da82f24",
   "metadata": {},
   "outputs": [],
   "source": [
    "path = Path(output_folder)\n",
    "path.mkdir(parents=True, exist_ok=True)\n",
    "df.to_csv(path / table_fn, index_label=\"Tag Name\")"
   ]
  }
 ],
 "metadata": {
  "kernelspec": {
   "display_name": "Python 3 (ipykernel)",
   "language": "python",
   "name": "python3"
  },
  "language_info": {
   "codemirror_mode": {
    "name": "ipython",
    "version": 3
   },
   "file_extension": ".py",
   "mimetype": "text/x-python",
   "name": "python",
   "nbconvert_exporter": "python",
   "pygments_lexer": "ipython3",
   "version": "3.12.5"
  }
 },
 "nbformat": 4,
 "nbformat_minor": 5
}
